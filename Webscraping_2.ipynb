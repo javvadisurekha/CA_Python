{
  "nbformat": 4,
  "nbformat_minor": 0,
  "metadata": {
    "colab": {
      "provenance": [],
      "authorship_tag": "ABX9TyN9Yjc4/LxZi2PkSIZRPytB",
      "include_colab_link": true
    },
    "kernelspec": {
      "name": "python3",
      "display_name": "Python 3"
    },
    "language_info": {
      "name": "python"
    }
  },
  "cells": [
    {
      "cell_type": "markdown",
      "metadata": {
        "id": "view-in-github",
        "colab_type": "text"
      },
      "source": [
        "<a href=\"https://colab.research.google.com/github/javvadisurekha/CA_Python/blob/main/Webscraping_2.ipynb\" target=\"_parent\"><img src=\"https://colab.research.google.com/assets/colab-badge.svg\" alt=\"Open In Colab\"/></a>"
      ]
    },
    {
      "cell_type": "code",
      "execution_count": 1,
      "metadata": {
        "id": "-eLBEKvJ_us5"
      },
      "outputs": [],
      "source": [
        "import sqlite3\n",
        "\n",
        "conn = sqlite3.connect('Movies.db')\n",
        "c = conn.cursor()\n",
        "\n"
      ]
    },
    {
      "cell_type": "code",
      "source": [
        "c.execute('''CREATE TABLE IF NOT EXISTS `twenties_movies` (id INTEGER PRIMARY KEY, rank INTEGER, title VARCHAR(255), year INTEGER, rating Real)''')"
      ],
      "metadata": {
        "id": "vC8pQgNwA4Ry",
        "outputId": "d521c3cc-4aa5-4793-8540-d7eeb69b7247",
        "colab": {
          "base_uri": "https://localhost:8080/"
        }
      },
      "execution_count": 2,
      "outputs": [
        {
          "output_type": "execute_result",
          "data": {
            "text/plain": [
              "<sqlite3.Cursor at 0x7f9f59af9650>"
            ]
          },
          "metadata": {},
          "execution_count": 2
        }
      ]
    },
    {
      "cell_type": "code",
      "source": [
        "c.execute('Select * from twenties_movies')"
      ],
      "metadata": {
        "id": "db2GgGffArGV",
        "outputId": "942aa3cc-ee11-4d46-8058-3be5a63a7064",
        "colab": {
          "base_uri": "https://localhost:8080/"
        }
      },
      "execution_count": 3,
      "outputs": [
        {
          "output_type": "execute_result",
          "data": {
            "text/plain": [
              "<sqlite3.Cursor at 0x7f9f59af9650>"
            ]
          },
          "metadata": {},
          "execution_count": 3
        }
      ]
    },
    {
      "cell_type": "code",
      "source": [
        "id = 1 \n",
        "rank = 2\n",
        "title = 'Yashoda'\n",
        "year = 2022\n",
        "rating = 8"
      ],
      "metadata": {
        "id": "q17o_H9aBCvI"
      },
      "execution_count": 4,
      "outputs": []
    },
    {
      "cell_type": "code",
      "source": [
        "c.execute('''Insert into twenties_movies values(?,?,?,?,?)''',(id,rank,title,year,rating))\n",
        "conn.commit()"
      ],
      "metadata": {
        "id": "G4r0JYLQBdCi"
      },
      "execution_count": 5,
      "outputs": []
    },
    {
      "cell_type": "code",
      "source": [
        "c.execute('''Select * from twenties_movies''')\n",
        "results = c.fetchall()\n",
        "print(results)"
      ],
      "metadata": {
        "id": "SpfTXbGUCGj-",
        "outputId": "e242070a-fdda-4c75-fe1e-36a4317e85ae",
        "colab": {
          "base_uri": "https://localhost:8080/"
        }
      },
      "execution_count": 6,
      "outputs": [
        {
          "output_type": "stream",
          "name": "stdout",
          "text": [
            "[(1, 2, 'Yashoda', 2022, 8.0)]\n"
          ]
        }
      ]
    },
    {
      "cell_type": "code",
      "source": [
        "from bs4 import BeautifulSoup\n",
        "import requests"
      ],
      "metadata": {
        "id": "oQ43lZPdnYhJ"
      },
      "execution_count": 7,
      "outputs": []
    },
    {
      "cell_type": "code",
      "source": [
        "url = \"https://www.cineworld.ie/#/buy-tickets-by-cinema?in-cinema=0001&at=2022-12-12&view-mode=list\""
      ],
      "metadata": {
        "id": "NY_C0giHoFKi"
      },
      "execution_count": 8,
      "outputs": []
    },
    {
      "cell_type": "code",
      "source": [
        "page = requests.post(url)"
      ],
      "metadata": {
        "id": "S6roHYtgoG6j"
      },
      "execution_count": 9,
      "outputs": []
    },
    {
      "cell_type": "code",
      "source": [],
      "metadata": {
        "id": "KyVvZnj5oNbo"
      },
      "execution_count": null,
      "outputs": []
    }
  ]
}