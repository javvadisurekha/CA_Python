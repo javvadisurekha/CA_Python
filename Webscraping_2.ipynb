{
  "nbformat": 4,
  "nbformat_minor": 0,
  "metadata": {
    "colab": {
      "provenance": [],
      "authorship_tag": "ABX9TyNIThVons+0/yKOQN7/aZBZ",
      "include_colab_link": true
    },
    "kernelspec": {
      "name": "python3",
      "display_name": "Python 3"
    },
    "language_info": {
      "name": "python"
    }
  },
  "cells": [
    {
      "cell_type": "markdown",
      "metadata": {
        "id": "view-in-github",
        "colab_type": "text"
      },
      "source": [
        "<a href=\"https://colab.research.google.com/github/javvadisurekha/CA_Python/blob/main/Webscraping_2.ipynb\" target=\"_parent\"><img src=\"https://colab.research.google.com/assets/colab-badge.svg\" alt=\"Open In Colab\"/></a>"
      ]
    },
    {
      "cell_type": "code",
      "execution_count": 3,
      "metadata": {
        "id": "-eLBEKvJ_us5"
      },
      "outputs": [],
      "source": [
        "import sqlite3\n",
        "\n",
        "conn = sqlite3.connect('Movies.db')\n",
        "c = conn.cursor()\n",
        "\n"
      ]
    },
    {
      "cell_type": "code",
      "source": [
        "c.execute('''CREATE TABLE IF NOT EXISTS `twenties_movies` (id INTEGER PRIMARY KEY, rank INTEGER, title VARCHAR(255), year INTEGER, rating Real)''')"
      ],
      "metadata": {
        "id": "vC8pQgNwA4Ry",
        "outputId": "9450f43b-0667-4645-9729-27217ad8c810",
        "colab": {
          "base_uri": "https://localhost:8080/"
        }
      },
      "execution_count": 4,
      "outputs": [
        {
          "output_type": "execute_result",
          "data": {
            "text/plain": [
              "<sqlite3.Cursor at 0x7f48f0ea5a40>"
            ]
          },
          "metadata": {},
          "execution_count": 4
        }
      ]
    },
    {
      "cell_type": "code",
      "source": [
        "c.execute('Select * from twenties_movies')"
      ],
      "metadata": {
        "id": "db2GgGffArGV",
        "outputId": "cc87fc5b-2029-474f-b027-fb8cedea3842",
        "colab": {
          "base_uri": "https://localhost:8080/"
        }
      },
      "execution_count": 5,
      "outputs": [
        {
          "output_type": "execute_result",
          "data": {
            "text/plain": [
              "<sqlite3.Cursor at 0x7f48f0ea5a40>"
            ]
          },
          "metadata": {},
          "execution_count": 5
        }
      ]
    },
    {
      "cell_type": "code",
      "source": [
        "id = 1 \n",
        "rank = 2\n",
        "title = 'Yashoda'\n",
        "year = 2022\n",
        "rating = 8"
      ],
      "metadata": {
        "id": "q17o_H9aBCvI"
      },
      "execution_count": 9,
      "outputs": []
    },
    {
      "cell_type": "code",
      "source": [
        "c.execute('''Insert into twenties_movies values(?,?,?,?,?)''',(id,rank,title,year,rating))\n",
        "conn.commit()"
      ],
      "metadata": {
        "id": "G4r0JYLQBdCi"
      },
      "execution_count": 11,
      "outputs": []
    },
    {
      "cell_type": "code",
      "source": [
        "c.execute('''Select * from twenties_movies''')\n",
        "results = c.fetchall()\n",
        "print(results)"
      ],
      "metadata": {
        "id": "SpfTXbGUCGj-",
        "outputId": "87790a00-f2aa-4892-f17d-c42e24f55a53",
        "colab": {
          "base_uri": "https://localhost:8080/"
        }
      },
      "execution_count": 12,
      "outputs": [
        {
          "output_type": "stream",
          "name": "stdout",
          "text": [
            "[(1, 2, 'Yashoda', 2022, 8.0)]\n"
          ]
        }
      ]
    }
  ]
}