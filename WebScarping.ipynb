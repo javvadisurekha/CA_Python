{
  "nbformat": 4,
  "nbformat_minor": 0,
  "metadata": {
    "colab": {
      "provenance": [],
      "authorship_tag": "ABX9TyMeYOqd7Fn7DWAau2HJTqhb",
      "include_colab_link": true
    },
    "kernelspec": {
      "name": "python3",
      "display_name": "Python 3"
    },
    "language_info": {
      "name": "python"
    }
  },
  "cells": [
    {
      "cell_type": "markdown",
      "metadata": {
        "id": "view-in-github",
        "colab_type": "text"
      },
      "source": [
        "<a href=\"https://colab.research.google.com/github/javvadisurekha/CA_Python/blob/main/WebScarping.ipynb\" target=\"_parent\"><img src=\"https://colab.research.google.com/assets/colab-badge.svg\" alt=\"Open In Colab\"/></a>"
      ]
    },
    {
      "cell_type": "code",
      "execution_count": 1,
      "metadata": {
        "id": "dDJtznycvhvo"
      },
      "outputs": [],
      "source": [
        "from bs4 import BeautifulSoup\n",
        "import requests\n",
        "import openpyxl\n",
        "import pandas as pd"
      ]
    },
    {
      "cell_type": "code",
      "source": [
        "# working with excel using 'openpyxl' module\n",
        "excel = openpyxl.Workbook()\n",
        "sheet = excel.active\n",
        "sheet.title = \"Top 250 Movies\"\n",
        "sheet.append([\"Movie Rank\", \"Movie Name\", \"Year of Release\", \"Rating\"])\n",
        "\n",
        "\n",
        "# requesting source website using 'request' module\n",
        "source = requests.get('https://www.imdb.com/chart/top/?ref_=nv_mv_250')\n",
        "\n",
        "# Creating BeautifulSoup Object\n",
        "soup = BeautifulSoup(source.text, 'html.parser')"
      ],
      "metadata": {
        "id": "lhEZnRvcvp76"
      },
      "execution_count": 2,
      "outputs": []
    },
    {
      "cell_type": "code",
      "source": [
        "# Fetching Movies details form soup object\n",
        "movies_list = soup.find('tbody', class_=\"lister-list\").find_all('tr')\n",
        "for movie in movies_list:\n",
        "  name = movie.find('td', class_=\"titleColumn\").a.text\n",
        "  rank =  movie.find('td', class_=\"titleColumn\").get_text(strip = True).split('.')[0]\n",
        "  year = movie.find('td', class_=\"titleColumn\").span.text.strip('()')\n",
        "  rating = movie.find('td', class_=\"ratingColumn\").strong.text\n",
        "\n",
        "# appending data to excel file \n",
        "  sheet.append([rank, name, year, rating])\n",
        "\n",
        "excel.save('Top 250 Movie.xlsx')"
      ],
      "metadata": {
        "id": "91PdDKqjvwub"
      },
      "execution_count": 3,
      "outputs": []
    }
  ]
}