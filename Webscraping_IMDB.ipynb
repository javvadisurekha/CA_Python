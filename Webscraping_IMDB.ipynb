{
  "nbformat": 4,
  "nbformat_minor": 0,
  "metadata": {
    "colab": {
      "provenance": [],
      "authorship_tag": "ABX9TyNJE+YBk+BLIpJrRUxxGW54",
      "include_colab_link": true
    },
    "kernelspec": {
      "name": "python3",
      "display_name": "Python 3"
    },
    "language_info": {
      "name": "python"
    }
  },
  "cells": [
    {
      "cell_type": "markdown",
      "metadata": {
        "id": "view-in-github",
        "colab_type": "text"
      },
      "source": [
        "<a href=\"https://colab.research.google.com/github/javvadisurekha/CA_Python/blob/main/Webscraping_IMDB.ipynb\" target=\"_parent\"><img src=\"https://colab.research.google.com/assets/colab-badge.svg\" alt=\"Open In Colab\"/></a>"
      ]
    },
    {
      "cell_type": "code",
      "execution_count": 28,
      "metadata": {
        "id": "ZJjHFn3-QsxE"
      },
      "outputs": [],
      "source": [
        "from bs4 import BeautifulSoup\n",
        "import requests"
      ]
    },
    {
      "cell_type": "code",
      "source": [
        "url = \"https://www.imdb.com/list/ls051601789/\""
      ],
      "metadata": {
        "id": "_J4aTYL7QzYH"
      },
      "execution_count": 29,
      "outputs": []
    },
    {
      "cell_type": "code",
      "source": [
        "response = requests.get(url)"
      ],
      "metadata": {
        "id": "G5_yaGXbQ1sA"
      },
      "execution_count": 30,
      "outputs": []
    },
    {
      "cell_type": "code",
      "source": [
        "response"
      ],
      "metadata": {
        "colab": {
          "base_uri": "https://localhost:8080/"
        },
        "id": "IPMhTe_CSZj8",
        "outputId": "51ab8854-6278-4a7c-cdea-0b80e62355f3"
      },
      "execution_count": 31,
      "outputs": [
        {
          "output_type": "execute_result",
          "data": {
            "text/plain": [
              "<Response [200]>"
            ]
          },
          "metadata": {},
          "execution_count": 31
        }
      ]
    },
    {
      "cell_type": "code",
      "source": [
        "#response.content"
      ],
      "metadata": {
        "id": "SWSKsz-cScs5"
      },
      "execution_count": 32,
      "outputs": []
    },
    {
      "cell_type": "code",
      "source": [
        "soup = BeautifulSoup(response.content,\"html.parser\")"
      ],
      "metadata": {
        "id": "niQvBzWdQ5q0"
      },
      "execution_count": 33,
      "outputs": []
    },
    {
      "cell_type": "code",
      "source": [
        "contents = soup.find_all(\"div\",class_=\"lister-item-content\")"
      ],
      "metadata": {
        "id": "s-rpt_yaSQMW"
      },
      "execution_count": 34,
      "outputs": []
    },
    {
      "cell_type": "code",
      "source": [
        "len(contents)"
      ],
      "metadata": {
        "colab": {
          "base_uri": "https://localhost:8080/"
        },
        "id": "qh6jL3d9SmUx",
        "outputId": "2239bb80-1a81-4da4-cdf8-0cfd4d6a9324"
      },
      "execution_count": 35,
      "outputs": [
        {
          "output_type": "execute_result",
          "data": {
            "text/plain": [
              "100"
            ]
          },
          "metadata": {},
          "execution_count": 35
        }
      ]
    },
    {
      "cell_type": "code",
      "source": [
        "headers = soup.find_all(\"h3\",class_ = \"lister-item-header\")"
      ],
      "metadata": {
        "id": "S1uIH8IpSpwN"
      },
      "execution_count": 36,
      "outputs": []
    },
    {
      "cell_type": "code",
      "source": [
        "len(headers)"
      ],
      "metadata": {
        "colab": {
          "base_uri": "https://localhost:8080/"
        },
        "id": "x44XJecQpJzN",
        "outputId": "ea5dce9a-5cfb-4d22-f145-2edfe130fe86"
      },
      "execution_count": 37,
      "outputs": [
        {
          "output_type": "execute_result",
          "data": {
            "text/plain": [
              "100"
            ]
          },
          "metadata": {},
          "execution_count": 37
        }
      ]
    },
    {
      "cell_type": "code",
      "source": [
        "headings = []\n",
        "sl_nos = []\n",
        "years = []\n",
        "for header in headers:\n",
        "  sl_no = header.find(\"span\",class_ = \"lister-item-index\").text\n",
        "  heading = header.find(\"a\").text\n",
        "  year = header.find(\"span\",class_=\"lister-item-year\").text"
      ],
      "metadata": {
        "id": "oY6sccxopTTg"
      },
      "execution_count": 38,
      "outputs": []
    },
    {
      "cell_type": "code",
      "source": [
        "print(headings)\n",
        "print(sl_nos)\n",
        "print(years)"
      ],
      "metadata": {
        "colab": {
          "base_uri": "https://localhost:8080/"
        },
        "id": "iVbmVZe5pzEb",
        "outputId": "f28fc57f-f200-4d0c-9230-38f117744f84"
      },
      "execution_count": 39,
      "outputs": [
        {
          "output_type": "stream",
          "name": "stdout",
          "text": [
            "[]\n",
            "[]\n",
            "[]\n"
          ]
        }
      ]
    },
    {
      "cell_type": "code",
      "source": [
        "info=[]\n",
        "for header in headers:\n",
        "  record={}\n",
        "  record['sl_no']=header.find(\"span\",class_ = \"lister-item-index\").text\n",
        "  record['heading']=header.find(\"a\").text\n",
        "  record['year']=header.find(\"span\",class_=\"lister-item-year\").text\n",
        "  info.append(record)"
      ],
      "metadata": {
        "id": "exkqifgjrJSD"
      },
      "execution_count": 40,
      "outputs": []
    },
    {
      "cell_type": "code",
      "source": [
        "info"
      ],
      "metadata": {
        "id": "xdcdp7aIrsLD",
        "outputId": "9e178258-68ca-4a04-c35b-02beb61f0cb1",
        "colab": {
          "base_uri": "https://localhost:8080/"
        }
      },
      "execution_count": 41,
      "outputs": [
        {
          "output_type": "execute_result",
          "data": {
            "text/plain": [
              "[{'sl_no': '1.', 'heading': 'Pulp Fiction', 'year': '(1994)'},\n",
              " {'sl_no': '2.', 'heading': 'Memento', 'year': '(2000)'},\n",
              " {'sl_no': '3.', 'heading': 'Big Fish', 'year': '(2003)'},\n",
              " {'sl_no': '4.', 'heading': 'The Pianist', 'year': '(2002)'},\n",
              " {'sl_no': '5.', 'heading': 'Reservoir Dogs', 'year': '(1992)'},\n",
              " {'sl_no': '6.', 'heading': 'Terminator 2: Judgment Day', 'year': '(1991)'},\n",
              " {'sl_no': '7.', 'heading': 'Snatch', 'year': '(2000)'},\n",
              " {'sl_no': '8.', 'heading': 'Bicycle Thieves', 'year': '(1948)'},\n",
              " {'sl_no': '9.', 'heading': 'Braveheart', 'year': '(1995)'},\n",
              " {'sl_no': '10.', 'heading': 'Warrior', 'year': '(2011)'},\n",
              " {'sl_no': '11.', 'heading': 'The Machinist', 'year': '(2004)'},\n",
              " {'sl_no': '12.', 'heading': 'Limitless', 'year': '(I) (2011)'},\n",
              " {'sl_no': '13.', 'heading': 'Jackie Brown', 'year': '(1997)'},\n",
              " {'sl_no': '14.', 'heading': 'Manhattan', 'year': '(1979)'},\n",
              " {'sl_no': '15.', 'heading': 'Good Will Hunting', 'year': '(1997)'},\n",
              " {'sl_no': '16.',\n",
              "  'heading': 'Eternal Sunshine of the Spotless Mind',\n",
              "  'year': '(2004)'},\n",
              " {'sl_no': '17.', 'heading': 'Drive', 'year': '(I) (2011)'},\n",
              " {'sl_no': '18.', 'heading': 'Trainspotting', 'year': '(1996)'},\n",
              " {'sl_no': '19.', 'heading': 'From Dusk Till Dawn', 'year': '(1996)'},\n",
              " {'sl_no': '20.', 'heading': 'Downfall', 'year': '(2004)'},\n",
              " {'sl_no': '21.', 'heading': 'Raising Arizona', 'year': '(1987)'},\n",
              " {'sl_no': '22.', 'heading': 'Mulholland Drive', 'year': '(2001)'},\n",
              " {'sl_no': '23.', 'heading': 'Ip Man', 'year': '(2008)'},\n",
              " {'sl_no': '24.', 'heading': 'Rain Man', 'year': '(1988)'},\n",
              " {'sl_no': '25.', 'heading': 'The Lincoln Lawyer', 'year': '(2011)'},\n",
              " {'sl_no': '26.', 'heading': \"Miller's Crossing\", 'year': '(1990)'},\n",
              " {'sl_no': '27.', 'heading': 'Tucker and Dale vs Evil', 'year': '(2010)'},\n",
              " {'sl_no': '28.', 'heading': 'Escape from Alcatraz', 'year': '(1979)'},\n",
              " {'sl_no': '29.', 'heading': 'In the Name of the Father', 'year': '(1993)'},\n",
              " {'sl_no': '30.', 'heading': 'Ronin', 'year': '(1998)'},\n",
              " {'sl_no': '31.', 'heading': 'The Last of the Mohicans', 'year': '(1992)'},\n",
              " {'sl_no': '32.', 'heading': 'The Karate Kid', 'year': '(1984)'},\n",
              " {'sl_no': '33.', 'heading': 'The Grey', 'year': '(2011)'},\n",
              " {'sl_no': '34.', 'heading': 'True Grit', 'year': '(2010)'},\n",
              " {'sl_no': '35.', 'heading': 'Black Hawk Down', 'year': '(2001)'},\n",
              " {'sl_no': '36.', 'heading': 'Lost in Translation', 'year': '(2003)'},\n",
              " {'sl_no': '37.', 'heading': 'Platoon', 'year': '(1986)'},\n",
              " {'sl_no': '38.', 'heading': 'Oldboy', 'year': '(2003)'},\n",
              " {'sl_no': '39.', 'heading': 'The Lady Vanishes', 'year': '(1938)'},\n",
              " {'sl_no': '40.', 'heading': 'The Man from Nowhere', 'year': '(2010)'},\n",
              " {'sl_no': '41.', 'heading': \"The King's Speech\", 'year': '(2010)'},\n",
              " {'sl_no': '42.',\n",
              "  'heading': 'The Girl with the Dragon Tattoo',\n",
              "  'year': '(2009)'},\n",
              " {'sl_no': '43.', 'heading': 'Following', 'year': '(1998)'},\n",
              " {'sl_no': '44.', 'heading': 'Battle Royale', 'year': '(2000)'},\n",
              " {'sl_no': '45.', 'heading': 'Barton Fink', 'year': '(1991)'},\n",
              " {'sl_no': '46.', 'heading': 'Let the Right One In', 'year': '(2008)'},\n",
              " {'sl_no': '47.', 'heading': 'Jarhead', 'year': '(2005)'},\n",
              " {'sl_no': '48.', 'heading': 'End of Watch', 'year': '(2012)'},\n",
              " {'sl_no': '49.', 'heading': 'Gandhi', 'year': '(1982)'},\n",
              " {'sl_no': '50.', 'heading': 'Audition', 'year': '(1999)'},\n",
              " {'sl_no': '51.', 'heading': 'The Artist', 'year': '(I) (2011)'},\n",
              " {'sl_no': '52.', 'heading': 'My Left Foot', 'year': '(1989)'},\n",
              " {'sl_no': '53.', 'heading': 'I Saw the Devil', 'year': '(2010)'},\n",
              " {'sl_no': '54.', 'heading': 'Sympathy for Mr. Vengeance', 'year': '(2002)'},\n",
              " {'sl_no': '55.', 'heading': 'Exam', 'year': '(2009)'},\n",
              " {'sl_no': '56.', 'heading': '21 Grams', 'year': '(2003)'},\n",
              " {'sl_no': '57.', 'heading': 'The Untouchables', 'year': '(1987)'},\n",
              " {'sl_no': '58.', 'heading': 'The Game', 'year': '(1997)'},\n",
              " {'sl_no': '59.', 'heading': 'The Hunt for Red October', 'year': '(1990)'},\n",
              " {'sl_no': '60.', 'heading': 'The Evil Dead', 'year': '(1981)'},\n",
              " {'sl_no': '61.', 'heading': 'Fearless', 'year': '(2006)'},\n",
              " {'sl_no': '62.', 'heading': 'Poolhall Junkies', 'year': '(2002)'},\n",
              " {'sl_no': '63.', 'heading': \"Ferris Bueller's Day Off\", 'year': '(1986)'},\n",
              " {'sl_no': '64.', 'heading': \"What's Eating Gilbert Grape\", 'year': '(1993)'},\n",
              " {'sl_no': '65.', 'heading': '13 Assassins', 'year': '(2010)'},\n",
              " {'sl_no': '66.',\n",
              "  'heading': \"The Girl Who Kicked the Hornet's Nest\",\n",
              "  'year': '(2009)'},\n",
              " {'sl_no': '67.', 'heading': 'Trollhunter', 'year': '(2010)'},\n",
              " {'sl_no': '68.', 'heading': 'Ip Man 2', 'year': '(2010)'},\n",
              " {'sl_no': '69.', 'heading': 'The Double', 'year': '(I) (2011)'},\n",
              " {'sl_no': '70.', 'heading': 'Big Daddy', 'year': '(1999)'},\n",
              " {'sl_no': '71.', 'heading': 'Highlander', 'year': '(1986)'},\n",
              " {'sl_no': '72.', 'heading': 'The War', 'year': '(1994)'},\n",
              " {'sl_no': '73.',\n",
              "  'heading': 'The Girl Who Played with Fire',\n",
              "  'year': '(2009)'},\n",
              " {'sl_no': '74.', 'heading': 'Margin Call', 'year': '(2011)'},\n",
              " {'sl_no': '75.', 'heading': 'Top Gun', 'year': '(1986)'},\n",
              " {'sl_no': '76.', 'heading': 'Liar Liar', 'year': '(1997)'},\n",
              " {'sl_no': '77.', 'heading': 'Act of Valor', 'year': '(2012)'},\n",
              " {'sl_no': '78.', 'heading': 'Along Came a Spider', 'year': '(2001)'},\n",
              " {'sl_no': '79.', 'heading': 'Clerks', 'year': '(1994)'},\n",
              " {'sl_no': '80.', 'heading': 'The Hunger Games', 'year': '(2012)'},\n",
              " {'sl_no': '81.', 'heading': 'Session 9', 'year': '(2001)'},\n",
              " {'sl_no': '82.', 'heading': 'Thor', 'year': '(2011)'},\n",
              " {'sl_no': '83.', 'heading': \"The Devil's Double\", 'year': '(2011)'},\n",
              " {'sl_no': '84.', 'heading': 'Goon', 'year': '(2011)'},\n",
              " {'sl_no': '85.', 'heading': 'The Awakening', 'year': '(I) (2011)'},\n",
              " {'sl_no': '86.', 'heading': 'Boy Wonder', 'year': '(2010)'},\n",
              " {'sl_no': '87.', 'heading': 'Sling Blade', 'year': '(1996)'},\n",
              " {'sl_no': '88.', 'heading': 'Haywire', 'year': '(2011)'},\n",
              " {'sl_no': '89.', 'heading': 'Citizen Gangster', 'year': '(2011)'},\n",
              " {'sl_no': '90.',\n",
              "  'heading': 'Captain America: The First Avenger',\n",
              "  'year': '(2011)'},\n",
              " {'sl_no': '91.', 'heading': 'The Escapist', 'year': '(2008)'},\n",
              " {'sl_no': '92.', 'heading': 'Killer Elite', 'year': '(2011)'},\n",
              " {'sl_no': '93.', 'heading': 'Blitz', 'year': '(2011)'},\n",
              " {'sl_no': '94.', 'heading': 'Identity', 'year': '(2003)'},\n",
              " {'sl_no': '95.', 'heading': 'Vanilla Sky', 'year': '(2001)'},\n",
              " {'sl_no': '96.', 'heading': 'Traffic', 'year': '(2000)'},\n",
              " {'sl_no': '97.', 'heading': 'Safety Not Guaranteed', 'year': '(2012)'},\n",
              " {'sl_no': '98.', 'heading': 'Super 8', 'year': '(2011)'},\n",
              " {'sl_no': '99.', 'heading': 'The Raven', 'year': '(I) (2012)'},\n",
              " {'sl_no': '100.', 'heading': 'All Good Things', 'year': '(2010)'}]"
            ]
          },
          "metadata": {},
          "execution_count": 41
        }
      ]
    },
    {
      "cell_type": "code",
      "source": [
        "import pandas as pd"
      ],
      "metadata": {
        "id": "vg40MR-nsfjk"
      },
      "execution_count": 42,
      "outputs": []
    },
    {
      "cell_type": "code",
      "source": [
        "df = pd.DataFrame(info)"
      ],
      "metadata": {
        "id": "4l0dThg7sieX"
      },
      "execution_count": 43,
      "outputs": []
    },
    {
      "cell_type": "code",
      "source": [
        "df"
      ],
      "metadata": {
        "id": "czCi58l7snhd",
        "outputId": "439430f4-5d13-4a77-80d8-805761e9362b",
        "colab": {
          "base_uri": "https://localhost:8080/",
          "height": 424
        }
      },
      "execution_count": 44,
      "outputs": [
        {
          "output_type": "execute_result",
          "data": {
            "text/plain": [
              "   sl_no                heading        year\n",
              "0     1.           Pulp Fiction      (1994)\n",
              "1     2.                Memento      (2000)\n",
              "2     3.               Big Fish      (2003)\n",
              "3     4.            The Pianist      (2002)\n",
              "4     5.         Reservoir Dogs      (1992)\n",
              "..   ...                    ...         ...\n",
              "95   96.                Traffic      (2000)\n",
              "96   97.  Safety Not Guaranteed      (2012)\n",
              "97   98.                Super 8      (2011)\n",
              "98   99.              The Raven  (I) (2012)\n",
              "99  100.        All Good Things      (2010)\n",
              "\n",
              "[100 rows x 3 columns]"
            ],
            "text/html": [
              "\n",
              "  <div id=\"df-e23e8dbe-be58-4bd1-82db-8ec6048bde05\">\n",
              "    <div class=\"colab-df-container\">\n",
              "      <div>\n",
              "<style scoped>\n",
              "    .dataframe tbody tr th:only-of-type {\n",
              "        vertical-align: middle;\n",
              "    }\n",
              "\n",
              "    .dataframe tbody tr th {\n",
              "        vertical-align: top;\n",
              "    }\n",
              "\n",
              "    .dataframe thead th {\n",
              "        text-align: right;\n",
              "    }\n",
              "</style>\n",
              "<table border=\"1\" class=\"dataframe\">\n",
              "  <thead>\n",
              "    <tr style=\"text-align: right;\">\n",
              "      <th></th>\n",
              "      <th>sl_no</th>\n",
              "      <th>heading</th>\n",
              "      <th>year</th>\n",
              "    </tr>\n",
              "  </thead>\n",
              "  <tbody>\n",
              "    <tr>\n",
              "      <th>0</th>\n",
              "      <td>1.</td>\n",
              "      <td>Pulp Fiction</td>\n",
              "      <td>(1994)</td>\n",
              "    </tr>\n",
              "    <tr>\n",
              "      <th>1</th>\n",
              "      <td>2.</td>\n",
              "      <td>Memento</td>\n",
              "      <td>(2000)</td>\n",
              "    </tr>\n",
              "    <tr>\n",
              "      <th>2</th>\n",
              "      <td>3.</td>\n",
              "      <td>Big Fish</td>\n",
              "      <td>(2003)</td>\n",
              "    </tr>\n",
              "    <tr>\n",
              "      <th>3</th>\n",
              "      <td>4.</td>\n",
              "      <td>The Pianist</td>\n",
              "      <td>(2002)</td>\n",
              "    </tr>\n",
              "    <tr>\n",
              "      <th>4</th>\n",
              "      <td>5.</td>\n",
              "      <td>Reservoir Dogs</td>\n",
              "      <td>(1992)</td>\n",
              "    </tr>\n",
              "    <tr>\n",
              "      <th>...</th>\n",
              "      <td>...</td>\n",
              "      <td>...</td>\n",
              "      <td>...</td>\n",
              "    </tr>\n",
              "    <tr>\n",
              "      <th>95</th>\n",
              "      <td>96.</td>\n",
              "      <td>Traffic</td>\n",
              "      <td>(2000)</td>\n",
              "    </tr>\n",
              "    <tr>\n",
              "      <th>96</th>\n",
              "      <td>97.</td>\n",
              "      <td>Safety Not Guaranteed</td>\n",
              "      <td>(2012)</td>\n",
              "    </tr>\n",
              "    <tr>\n",
              "      <th>97</th>\n",
              "      <td>98.</td>\n",
              "      <td>Super 8</td>\n",
              "      <td>(2011)</td>\n",
              "    </tr>\n",
              "    <tr>\n",
              "      <th>98</th>\n",
              "      <td>99.</td>\n",
              "      <td>The Raven</td>\n",
              "      <td>(I) (2012)</td>\n",
              "    </tr>\n",
              "    <tr>\n",
              "      <th>99</th>\n",
              "      <td>100.</td>\n",
              "      <td>All Good Things</td>\n",
              "      <td>(2010)</td>\n",
              "    </tr>\n",
              "  </tbody>\n",
              "</table>\n",
              "<p>100 rows × 3 columns</p>\n",
              "</div>\n",
              "      <button class=\"colab-df-convert\" onclick=\"convertToInteractive('df-e23e8dbe-be58-4bd1-82db-8ec6048bde05')\"\n",
              "              title=\"Convert this dataframe to an interactive table.\"\n",
              "              style=\"display:none;\">\n",
              "        \n",
              "  <svg xmlns=\"http://www.w3.org/2000/svg\" height=\"24px\"viewBox=\"0 0 24 24\"\n",
              "       width=\"24px\">\n",
              "    <path d=\"M0 0h24v24H0V0z\" fill=\"none\"/>\n",
              "    <path d=\"M18.56 5.44l.94 2.06.94-2.06 2.06-.94-2.06-.94-.94-2.06-.94 2.06-2.06.94zm-11 1L8.5 8.5l.94-2.06 2.06-.94-2.06-.94L8.5 2.5l-.94 2.06-2.06.94zm10 10l.94 2.06.94-2.06 2.06-.94-2.06-.94-.94-2.06-.94 2.06-2.06.94z\"/><path d=\"M17.41 7.96l-1.37-1.37c-.4-.4-.92-.59-1.43-.59-.52 0-1.04.2-1.43.59L10.3 9.45l-7.72 7.72c-.78.78-.78 2.05 0 2.83L4 21.41c.39.39.9.59 1.41.59.51 0 1.02-.2 1.41-.59l7.78-7.78 2.81-2.81c.8-.78.8-2.07 0-2.86zM5.41 20L4 18.59l7.72-7.72 1.47 1.35L5.41 20z\"/>\n",
              "  </svg>\n",
              "      </button>\n",
              "      \n",
              "  <style>\n",
              "    .colab-df-container {\n",
              "      display:flex;\n",
              "      flex-wrap:wrap;\n",
              "      gap: 12px;\n",
              "    }\n",
              "\n",
              "    .colab-df-convert {\n",
              "      background-color: #E8F0FE;\n",
              "      border: none;\n",
              "      border-radius: 50%;\n",
              "      cursor: pointer;\n",
              "      display: none;\n",
              "      fill: #1967D2;\n",
              "      height: 32px;\n",
              "      padding: 0 0 0 0;\n",
              "      width: 32px;\n",
              "    }\n",
              "\n",
              "    .colab-df-convert:hover {\n",
              "      background-color: #E2EBFA;\n",
              "      box-shadow: 0px 1px 2px rgba(60, 64, 67, 0.3), 0px 1px 3px 1px rgba(60, 64, 67, 0.15);\n",
              "      fill: #174EA6;\n",
              "    }\n",
              "\n",
              "    [theme=dark] .colab-df-convert {\n",
              "      background-color: #3B4455;\n",
              "      fill: #D2E3FC;\n",
              "    }\n",
              "\n",
              "    [theme=dark] .colab-df-convert:hover {\n",
              "      background-color: #434B5C;\n",
              "      box-shadow: 0px 1px 3px 1px rgba(0, 0, 0, 0.15);\n",
              "      filter: drop-shadow(0px 1px 2px rgba(0, 0, 0, 0.3));\n",
              "      fill: #FFFFFF;\n",
              "    }\n",
              "  </style>\n",
              "\n",
              "      <script>\n",
              "        const buttonEl =\n",
              "          document.querySelector('#df-e23e8dbe-be58-4bd1-82db-8ec6048bde05 button.colab-df-convert');\n",
              "        buttonEl.style.display =\n",
              "          google.colab.kernel.accessAllowed ? 'block' : 'none';\n",
              "\n",
              "        async function convertToInteractive(key) {\n",
              "          const element = document.querySelector('#df-e23e8dbe-be58-4bd1-82db-8ec6048bde05');\n",
              "          const dataTable =\n",
              "            await google.colab.kernel.invokeFunction('convertToInteractive',\n",
              "                                                     [key], {});\n",
              "          if (!dataTable) return;\n",
              "\n",
              "          const docLinkHtml = 'Like what you see? Visit the ' +\n",
              "            '<a target=\"_blank\" href=https://colab.research.google.com/notebooks/data_table.ipynb>data table notebook</a>'\n",
              "            + ' to learn more about interactive tables.';\n",
              "          element.innerHTML = '';\n",
              "          dataTable['output_type'] = 'display_data';\n",
              "          await google.colab.output.renderOutput(dataTable, element);\n",
              "          const docLink = document.createElement('div');\n",
              "          docLink.innerHTML = docLinkHtml;\n",
              "          element.appendChild(docLink);\n",
              "        }\n",
              "      </script>\n",
              "    </div>\n",
              "  </div>\n",
              "  "
            ]
          },
          "metadata": {},
          "execution_count": 44
        }
      ]
    },
    {
      "cell_type": "code",
      "source": [
        "df.describe()"
      ],
      "metadata": {
        "id": "NPD1ccHUta0a",
        "outputId": "f32f3bd8-5fff-49e4-8cd2-77973152ac87",
        "colab": {
          "base_uri": "https://localhost:8080/",
          "height": 175
        }
      },
      "execution_count": 45,
      "outputs": [
        {
          "output_type": "execute_result",
          "data": {
            "text/plain": [
              "       sl_no       heading    year\n",
              "count    100           100     100\n",
              "unique   100           100      34\n",
              "top       1.  Pulp Fiction  (2011)\n",
              "freq       1             1      13"
            ],
            "text/html": [
              "\n",
              "  <div id=\"df-bdb9402e-2f12-4775-b2a6-00ac12a7e3bd\">\n",
              "    <div class=\"colab-df-container\">\n",
              "      <div>\n",
              "<style scoped>\n",
              "    .dataframe tbody tr th:only-of-type {\n",
              "        vertical-align: middle;\n",
              "    }\n",
              "\n",
              "    .dataframe tbody tr th {\n",
              "        vertical-align: top;\n",
              "    }\n",
              "\n",
              "    .dataframe thead th {\n",
              "        text-align: right;\n",
              "    }\n",
              "</style>\n",
              "<table border=\"1\" class=\"dataframe\">\n",
              "  <thead>\n",
              "    <tr style=\"text-align: right;\">\n",
              "      <th></th>\n",
              "      <th>sl_no</th>\n",
              "      <th>heading</th>\n",
              "      <th>year</th>\n",
              "    </tr>\n",
              "  </thead>\n",
              "  <tbody>\n",
              "    <tr>\n",
              "      <th>count</th>\n",
              "      <td>100</td>\n",
              "      <td>100</td>\n",
              "      <td>100</td>\n",
              "    </tr>\n",
              "    <tr>\n",
              "      <th>unique</th>\n",
              "      <td>100</td>\n",
              "      <td>100</td>\n",
              "      <td>34</td>\n",
              "    </tr>\n",
              "    <tr>\n",
              "      <th>top</th>\n",
              "      <td>1.</td>\n",
              "      <td>Pulp Fiction</td>\n",
              "      <td>(2011)</td>\n",
              "    </tr>\n",
              "    <tr>\n",
              "      <th>freq</th>\n",
              "      <td>1</td>\n",
              "      <td>1</td>\n",
              "      <td>13</td>\n",
              "    </tr>\n",
              "  </tbody>\n",
              "</table>\n",
              "</div>\n",
              "      <button class=\"colab-df-convert\" onclick=\"convertToInteractive('df-bdb9402e-2f12-4775-b2a6-00ac12a7e3bd')\"\n",
              "              title=\"Convert this dataframe to an interactive table.\"\n",
              "              style=\"display:none;\">\n",
              "        \n",
              "  <svg xmlns=\"http://www.w3.org/2000/svg\" height=\"24px\"viewBox=\"0 0 24 24\"\n",
              "       width=\"24px\">\n",
              "    <path d=\"M0 0h24v24H0V0z\" fill=\"none\"/>\n",
              "    <path d=\"M18.56 5.44l.94 2.06.94-2.06 2.06-.94-2.06-.94-.94-2.06-.94 2.06-2.06.94zm-11 1L8.5 8.5l.94-2.06 2.06-.94-2.06-.94L8.5 2.5l-.94 2.06-2.06.94zm10 10l.94 2.06.94-2.06 2.06-.94-2.06-.94-.94-2.06-.94 2.06-2.06.94z\"/><path d=\"M17.41 7.96l-1.37-1.37c-.4-.4-.92-.59-1.43-.59-.52 0-1.04.2-1.43.59L10.3 9.45l-7.72 7.72c-.78.78-.78 2.05 0 2.83L4 21.41c.39.39.9.59 1.41.59.51 0 1.02-.2 1.41-.59l7.78-7.78 2.81-2.81c.8-.78.8-2.07 0-2.86zM5.41 20L4 18.59l7.72-7.72 1.47 1.35L5.41 20z\"/>\n",
              "  </svg>\n",
              "      </button>\n",
              "      \n",
              "  <style>\n",
              "    .colab-df-container {\n",
              "      display:flex;\n",
              "      flex-wrap:wrap;\n",
              "      gap: 12px;\n",
              "    }\n",
              "\n",
              "    .colab-df-convert {\n",
              "      background-color: #E8F0FE;\n",
              "      border: none;\n",
              "      border-radius: 50%;\n",
              "      cursor: pointer;\n",
              "      display: none;\n",
              "      fill: #1967D2;\n",
              "      height: 32px;\n",
              "      padding: 0 0 0 0;\n",
              "      width: 32px;\n",
              "    }\n",
              "\n",
              "    .colab-df-convert:hover {\n",
              "      background-color: #E2EBFA;\n",
              "      box-shadow: 0px 1px 2px rgba(60, 64, 67, 0.3), 0px 1px 3px 1px rgba(60, 64, 67, 0.15);\n",
              "      fill: #174EA6;\n",
              "    }\n",
              "\n",
              "    [theme=dark] .colab-df-convert {\n",
              "      background-color: #3B4455;\n",
              "      fill: #D2E3FC;\n",
              "    }\n",
              "\n",
              "    [theme=dark] .colab-df-convert:hover {\n",
              "      background-color: #434B5C;\n",
              "      box-shadow: 0px 1px 3px 1px rgba(0, 0, 0, 0.15);\n",
              "      filter: drop-shadow(0px 1px 2px rgba(0, 0, 0, 0.3));\n",
              "      fill: #FFFFFF;\n",
              "    }\n",
              "  </style>\n",
              "\n",
              "      <script>\n",
              "        const buttonEl =\n",
              "          document.querySelector('#df-bdb9402e-2f12-4775-b2a6-00ac12a7e3bd button.colab-df-convert');\n",
              "        buttonEl.style.display =\n",
              "          google.colab.kernel.accessAllowed ? 'block' : 'none';\n",
              "\n",
              "        async function convertToInteractive(key) {\n",
              "          const element = document.querySelector('#df-bdb9402e-2f12-4775-b2a6-00ac12a7e3bd');\n",
              "          const dataTable =\n",
              "            await google.colab.kernel.invokeFunction('convertToInteractive',\n",
              "                                                     [key], {});\n",
              "          if (!dataTable) return;\n",
              "\n",
              "          const docLinkHtml = 'Like what you see? Visit the ' +\n",
              "            '<a target=\"_blank\" href=https://colab.research.google.com/notebooks/data_table.ipynb>data table notebook</a>'\n",
              "            + ' to learn more about interactive tables.';\n",
              "          element.innerHTML = '';\n",
              "          dataTable['output_type'] = 'display_data';\n",
              "          await google.colab.output.renderOutput(dataTable, element);\n",
              "          const docLink = document.createElement('div');\n",
              "          docLink.innerHTML = docLinkHtml;\n",
              "          element.appendChild(docLink);\n",
              "        }\n",
              "      </script>\n",
              "    </div>\n",
              "  </div>\n",
              "  "
            ]
          },
          "metadata": {},
          "execution_count": 45
        }
      ]
    },
    {
      "cell_type": "code",
      "source": [
        "info1=[]\n",
        "for content in contents:\n",
        "  record={}\n",
        "  record['ratings']=content.find(\"span\",class_ = \"ipl-rating-star__rating\").text\n",
        "  record['times']=content.find(\"span\",class_ = \"runtime\").text\n",
        "  info1.append(record)"
      ],
      "metadata": {
        "id": "9NhkLv1MOw8g"
      },
      "execution_count": 46,
      "outputs": []
    },
    {
      "cell_type": "code",
      "source": [
        "info1"
      ],
      "metadata": {
        "id": "xRG2FCDVP09M",
        "outputId": "5218a4d4-b533-448f-d4ac-6b31d0d47188",
        "colab": {
          "base_uri": "https://localhost:8080/"
        }
      },
      "execution_count": 47,
      "outputs": [
        {
          "output_type": "execute_result",
          "data": {
            "text/plain": [
              "[{'ratings': '8.9', 'times': '154 min'},\n",
              " {'ratings': '8.4', 'times': '113 min'},\n",
              " {'ratings': '8', 'times': '125 min'},\n",
              " {'ratings': '8.5', 'times': '150 min'},\n",
              " {'ratings': '8.3', 'times': '99 min'},\n",
              " {'ratings': '8.6', 'times': '137 min'},\n",
              " {'ratings': '8.2', 'times': '102 min'},\n",
              " {'ratings': '8.3', 'times': '89 min'},\n",
              " {'ratings': '8.4', 'times': '178 min'},\n",
              " {'ratings': '8.2', 'times': '140 min'},\n",
              " {'ratings': '7.7', 'times': '101 min'},\n",
              " {'ratings': '7.4', 'times': '105 min'},\n",
              " {'ratings': '7.5', 'times': '154 min'},\n",
              " {'ratings': '7.9', 'times': '96 min'},\n",
              " {'ratings': '8.3', 'times': '126 min'},\n",
              " {'ratings': '8.3', 'times': '108 min'},\n",
              " {'ratings': '7.8', 'times': '100 min'},\n",
              " {'ratings': '8.1', 'times': '93 min'},\n",
              " {'ratings': '7.2', 'times': '108 min'},\n",
              " {'ratings': '8.2', 'times': '156 min'},\n",
              " {'ratings': '7.3', 'times': '94 min'},\n",
              " {'ratings': '7.9', 'times': '147 min'},\n",
              " {'ratings': '8', 'times': '106 min'},\n",
              " {'ratings': '8', 'times': '133 min'},\n",
              " {'ratings': '7.3', 'times': '118 min'},\n",
              " {'ratings': '7.7', 'times': '115 min'},\n",
              " {'ratings': '7.5', 'times': '89 min'},\n",
              " {'ratings': '7.6', 'times': '112 min'},\n",
              " {'ratings': '8.1', 'times': '133 min'},\n",
              " {'ratings': '7.2', 'times': '122 min'},\n",
              " {'ratings': '7.7', 'times': '112 min'},\n",
              " {'ratings': '7.3', 'times': '126 min'},\n",
              " {'ratings': '6.8', 'times': '117 min'},\n",
              " {'ratings': '7.6', 'times': '110 min'},\n",
              " {'ratings': '7.7', 'times': '144 min'},\n",
              " {'ratings': '7.7', 'times': '102 min'},\n",
              " {'ratings': '8.1', 'times': '120 min'},\n",
              " {'ratings': '8.4', 'times': '120 min'},\n",
              " {'ratings': '7.8', 'times': '96 min'},\n",
              " {'ratings': '7.7', 'times': '119 min'},\n",
              " {'ratings': '8', 'times': '118 min'},\n",
              " {'ratings': '7.8', 'times': '152 min'},\n",
              " {'ratings': '7.5', 'times': '69 min'},\n",
              " {'ratings': '7.6', 'times': '114 min'},\n",
              " {'ratings': '7.6', 'times': '116 min'},\n",
              " {'ratings': '7.9', 'times': '114 min'},\n",
              " {'ratings': '7', 'times': '125 min'},\n",
              " {'ratings': '7.6', 'times': '109 min'},\n",
              " {'ratings': '8.1', 'times': '191 min'},\n",
              " {'ratings': '7.1', 'times': '115 min'},\n",
              " {'ratings': '7.9', 'times': '100 min'},\n",
              " {'ratings': '7.9', 'times': '103 min'},\n",
              " {'ratings': '7.8', 'times': '144 min'},\n",
              " {'ratings': '7.5', 'times': '129 min'},\n",
              " {'ratings': '6.8', 'times': '101 min'},\n",
              " {'ratings': '7.6', 'times': '124 min'},\n",
              " {'ratings': '7.8', 'times': '119 min'},\n",
              " {'ratings': '7.7', 'times': '129 min'},\n",
              " {'ratings': '7.5', 'times': '135 min'},\n",
              " {'ratings': '7.4', 'times': '85 min'},\n",
              " {'ratings': '7.6', 'times': '104 min'},\n",
              " {'ratings': '6.8', 'times': '99 min'},\n",
              " {'ratings': '7.8', 'times': '103 min'},\n",
              " {'ratings': '7.7', 'times': '118 min'},\n",
              " {'ratings': '7.5', 'times': '141 min'},\n",
              " {'ratings': '7.3', 'times': '147 min'},\n",
              " {'ratings': '6.9', 'times': '103 min'},\n",
              " {'ratings': '7.5', 'times': '108 min'},\n",
              " {'ratings': '5.9', 'times': '98 min'},\n",
              " {'ratings': '6.4', 'times': '93 min'},\n",
              " {'ratings': '7.1', 'times': '116 min'},\n",
              " {'ratings': '6.7', 'times': '126 min'},\n",
              " {'ratings': '7.1', 'times': '129 min'},\n",
              " {'ratings': '7.1', 'times': '107 min'},\n",
              " {'ratings': '6.9', 'times': '110 min'},\n",
              " {'ratings': '6.9', 'times': '86 min'},\n",
              " {'ratings': '6.4', 'times': '110 min'},\n",
              " {'ratings': '6.4', 'times': '104 min'},\n",
              " {'ratings': '7.7', 'times': '92 min'},\n",
              " {'ratings': '7.2', 'times': '142 min'},\n",
              " {'ratings': '6.4', 'times': '97 min'},\n",
              " {'ratings': '7', 'times': '115 min'},\n",
              " {'ratings': '7.1', 'times': '109 min'},\n",
              " {'ratings': '6.8', 'times': '92 min'},\n",
              " {'ratings': '6.4', 'times': '102 min'},\n",
              " {'ratings': '6.8', 'times': '93 min'},\n",
              " {'ratings': '8', 'times': '135 min'},\n",
              " {'ratings': '5.8', 'times': '93 min'},\n",
              " {'ratings': '6.1', 'times': '105 min'},\n",
              " {'ratings': '6.9', 'times': '124 min'},\n",
              " {'ratings': '6.7', 'times': '102 min'},\n",
              " {'ratings': '6.4', 'times': '116 min'},\n",
              " {'ratings': '6.1', 'times': '97 min'},\n",
              " {'ratings': '7.3', 'times': '90 min'},\n",
              " {'ratings': '6.9', 'times': '136 min'},\n",
              " {'ratings': '7.6', 'times': '147 min'},\n",
              " {'ratings': '6.9', 'times': '86 min'},\n",
              " {'ratings': '7', 'times': '112 min'},\n",
              " {'ratings': '6.4', 'times': '110 min'},\n",
              " {'ratings': '6.3', 'times': '101 min'}]"
            ]
          },
          "metadata": {},
          "execution_count": 47
        }
      ]
    },
    {
      "cell_type": "code",
      "source": [
        "movie_info = {\"info\": info ,\"info1\": info1}"
      ],
      "metadata": {
        "id": "IgHALV6XP30W"
      },
      "execution_count": 48,
      "outputs": []
    },
    {
      "cell_type": "code",
      "source": [
        "df = pd.DataFrame(movie_info)"
      ],
      "metadata": {
        "id": "oQIA7xkcQIz9"
      },
      "execution_count": 53,
      "outputs": []
    },
    {
      "cell_type": "code",
      "source": [
        "df"
      ],
      "metadata": {
        "id": "VBbtLgtZQOPv",
        "outputId": "96920fd7-0df5-4b35-c5b0-b19e0a664ec8",
        "colab": {
          "base_uri": "https://localhost:8080/",
          "height": 424
        }
      },
      "execution_count": 54,
      "outputs": [
        {
          "output_type": "execute_result",
          "data": {
            "text/plain": [
              "                                                 info  \\\n",
              "0   {'sl_no': '1.', 'heading': 'Pulp Fiction', 'ye...   \n",
              "1   {'sl_no': '2.', 'heading': 'Memento', 'year': ...   \n",
              "2   {'sl_no': '3.', 'heading': 'Big Fish', 'year':...   \n",
              "3   {'sl_no': '4.', 'heading': 'The Pianist', 'yea...   \n",
              "4   {'sl_no': '5.', 'heading': 'Reservoir Dogs', '...   \n",
              "..                                                ...   \n",
              "95  {'sl_no': '96.', 'heading': 'Traffic', 'year':...   \n",
              "96  {'sl_no': '97.', 'heading': 'Safety Not Guaran...   \n",
              "97  {'sl_no': '98.', 'heading': 'Super 8', 'year':...   \n",
              "98  {'sl_no': '99.', 'heading': 'The Raven', 'year...   \n",
              "99  {'sl_no': '100.', 'heading': 'All Good Things'...   \n",
              "\n",
              "                                     info1  \n",
              "0   {'ratings': '8.9', 'times': '154 min'}  \n",
              "1   {'ratings': '8.4', 'times': '113 min'}  \n",
              "2     {'ratings': '8', 'times': '125 min'}  \n",
              "3   {'ratings': '8.5', 'times': '150 min'}  \n",
              "4    {'ratings': '8.3', 'times': '99 min'}  \n",
              "..                                     ...  \n",
              "95  {'ratings': '7.6', 'times': '147 min'}  \n",
              "96   {'ratings': '6.9', 'times': '86 min'}  \n",
              "97    {'ratings': '7', 'times': '112 min'}  \n",
              "98  {'ratings': '6.4', 'times': '110 min'}  \n",
              "99  {'ratings': '6.3', 'times': '101 min'}  \n",
              "\n",
              "[100 rows x 2 columns]"
            ],
            "text/html": [
              "\n",
              "  <div id=\"df-2dfb62bc-115f-426f-9f59-abadaa486560\">\n",
              "    <div class=\"colab-df-container\">\n",
              "      <div>\n",
              "<style scoped>\n",
              "    .dataframe tbody tr th:only-of-type {\n",
              "        vertical-align: middle;\n",
              "    }\n",
              "\n",
              "    .dataframe tbody tr th {\n",
              "        vertical-align: top;\n",
              "    }\n",
              "\n",
              "    .dataframe thead th {\n",
              "        text-align: right;\n",
              "    }\n",
              "</style>\n",
              "<table border=\"1\" class=\"dataframe\">\n",
              "  <thead>\n",
              "    <tr style=\"text-align: right;\">\n",
              "      <th></th>\n",
              "      <th>info</th>\n",
              "      <th>info1</th>\n",
              "    </tr>\n",
              "  </thead>\n",
              "  <tbody>\n",
              "    <tr>\n",
              "      <th>0</th>\n",
              "      <td>{'sl_no': '1.', 'heading': 'Pulp Fiction', 'ye...</td>\n",
              "      <td>{'ratings': '8.9', 'times': '154 min'}</td>\n",
              "    </tr>\n",
              "    <tr>\n",
              "      <th>1</th>\n",
              "      <td>{'sl_no': '2.', 'heading': 'Memento', 'year': ...</td>\n",
              "      <td>{'ratings': '8.4', 'times': '113 min'}</td>\n",
              "    </tr>\n",
              "    <tr>\n",
              "      <th>2</th>\n",
              "      <td>{'sl_no': '3.', 'heading': 'Big Fish', 'year':...</td>\n",
              "      <td>{'ratings': '8', 'times': '125 min'}</td>\n",
              "    </tr>\n",
              "    <tr>\n",
              "      <th>3</th>\n",
              "      <td>{'sl_no': '4.', 'heading': 'The Pianist', 'yea...</td>\n",
              "      <td>{'ratings': '8.5', 'times': '150 min'}</td>\n",
              "    </tr>\n",
              "    <tr>\n",
              "      <th>4</th>\n",
              "      <td>{'sl_no': '5.', 'heading': 'Reservoir Dogs', '...</td>\n",
              "      <td>{'ratings': '8.3', 'times': '99 min'}</td>\n",
              "    </tr>\n",
              "    <tr>\n",
              "      <th>...</th>\n",
              "      <td>...</td>\n",
              "      <td>...</td>\n",
              "    </tr>\n",
              "    <tr>\n",
              "      <th>95</th>\n",
              "      <td>{'sl_no': '96.', 'heading': 'Traffic', 'year':...</td>\n",
              "      <td>{'ratings': '7.6', 'times': '147 min'}</td>\n",
              "    </tr>\n",
              "    <tr>\n",
              "      <th>96</th>\n",
              "      <td>{'sl_no': '97.', 'heading': 'Safety Not Guaran...</td>\n",
              "      <td>{'ratings': '6.9', 'times': '86 min'}</td>\n",
              "    </tr>\n",
              "    <tr>\n",
              "      <th>97</th>\n",
              "      <td>{'sl_no': '98.', 'heading': 'Super 8', 'year':...</td>\n",
              "      <td>{'ratings': '7', 'times': '112 min'}</td>\n",
              "    </tr>\n",
              "    <tr>\n",
              "      <th>98</th>\n",
              "      <td>{'sl_no': '99.', 'heading': 'The Raven', 'year...</td>\n",
              "      <td>{'ratings': '6.4', 'times': '110 min'}</td>\n",
              "    </tr>\n",
              "    <tr>\n",
              "      <th>99</th>\n",
              "      <td>{'sl_no': '100.', 'heading': 'All Good Things'...</td>\n",
              "      <td>{'ratings': '6.3', 'times': '101 min'}</td>\n",
              "    </tr>\n",
              "  </tbody>\n",
              "</table>\n",
              "<p>100 rows × 2 columns</p>\n",
              "</div>\n",
              "      <button class=\"colab-df-convert\" onclick=\"convertToInteractive('df-2dfb62bc-115f-426f-9f59-abadaa486560')\"\n",
              "              title=\"Convert this dataframe to an interactive table.\"\n",
              "              style=\"display:none;\">\n",
              "        \n",
              "  <svg xmlns=\"http://www.w3.org/2000/svg\" height=\"24px\"viewBox=\"0 0 24 24\"\n",
              "       width=\"24px\">\n",
              "    <path d=\"M0 0h24v24H0V0z\" fill=\"none\"/>\n",
              "    <path d=\"M18.56 5.44l.94 2.06.94-2.06 2.06-.94-2.06-.94-.94-2.06-.94 2.06-2.06.94zm-11 1L8.5 8.5l.94-2.06 2.06-.94-2.06-.94L8.5 2.5l-.94 2.06-2.06.94zm10 10l.94 2.06.94-2.06 2.06-.94-2.06-.94-.94-2.06-.94 2.06-2.06.94z\"/><path d=\"M17.41 7.96l-1.37-1.37c-.4-.4-.92-.59-1.43-.59-.52 0-1.04.2-1.43.59L10.3 9.45l-7.72 7.72c-.78.78-.78 2.05 0 2.83L4 21.41c.39.39.9.59 1.41.59.51 0 1.02-.2 1.41-.59l7.78-7.78 2.81-2.81c.8-.78.8-2.07 0-2.86zM5.41 20L4 18.59l7.72-7.72 1.47 1.35L5.41 20z\"/>\n",
              "  </svg>\n",
              "      </button>\n",
              "      \n",
              "  <style>\n",
              "    .colab-df-container {\n",
              "      display:flex;\n",
              "      flex-wrap:wrap;\n",
              "      gap: 12px;\n",
              "    }\n",
              "\n",
              "    .colab-df-convert {\n",
              "      background-color: #E8F0FE;\n",
              "      border: none;\n",
              "      border-radius: 50%;\n",
              "      cursor: pointer;\n",
              "      display: none;\n",
              "      fill: #1967D2;\n",
              "      height: 32px;\n",
              "      padding: 0 0 0 0;\n",
              "      width: 32px;\n",
              "    }\n",
              "\n",
              "    .colab-df-convert:hover {\n",
              "      background-color: #E2EBFA;\n",
              "      box-shadow: 0px 1px 2px rgba(60, 64, 67, 0.3), 0px 1px 3px 1px rgba(60, 64, 67, 0.15);\n",
              "      fill: #174EA6;\n",
              "    }\n",
              "\n",
              "    [theme=dark] .colab-df-convert {\n",
              "      background-color: #3B4455;\n",
              "      fill: #D2E3FC;\n",
              "    }\n",
              "\n",
              "    [theme=dark] .colab-df-convert:hover {\n",
              "      background-color: #434B5C;\n",
              "      box-shadow: 0px 1px 3px 1px rgba(0, 0, 0, 0.15);\n",
              "      filter: drop-shadow(0px 1px 2px rgba(0, 0, 0, 0.3));\n",
              "      fill: #FFFFFF;\n",
              "    }\n",
              "  </style>\n",
              "\n",
              "      <script>\n",
              "        const buttonEl =\n",
              "          document.querySelector('#df-2dfb62bc-115f-426f-9f59-abadaa486560 button.colab-df-convert');\n",
              "        buttonEl.style.display =\n",
              "          google.colab.kernel.accessAllowed ? 'block' : 'none';\n",
              "\n",
              "        async function convertToInteractive(key) {\n",
              "          const element = document.querySelector('#df-2dfb62bc-115f-426f-9f59-abadaa486560');\n",
              "          const dataTable =\n",
              "            await google.colab.kernel.invokeFunction('convertToInteractive',\n",
              "                                                     [key], {});\n",
              "          if (!dataTable) return;\n",
              "\n",
              "          const docLinkHtml = 'Like what you see? Visit the ' +\n",
              "            '<a target=\"_blank\" href=https://colab.research.google.com/notebooks/data_table.ipynb>data table notebook</a>'\n",
              "            + ' to learn more about interactive tables.';\n",
              "          element.innerHTML = '';\n",
              "          dataTable['output_type'] = 'display_data';\n",
              "          await google.colab.output.renderOutput(dataTable, element);\n",
              "          const docLink = document.createElement('div');\n",
              "          docLink.innerHTML = docLinkHtml;\n",
              "          element.appendChild(docLink);\n",
              "        }\n",
              "      </script>\n",
              "    </div>\n",
              "  </div>\n",
              "  "
            ]
          },
          "metadata": {},
          "execution_count": 54
        }
      ]
    }
  ]
}