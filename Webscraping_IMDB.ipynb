{
  "nbformat": 4,
  "nbformat_minor": 0,
  "metadata": {
    "colab": {
      "provenance": [],
      "authorship_tag": "ABX9TyM99YE4I3AQ0OvOcszIBC5g",
      "include_colab_link": true
    },
    "kernelspec": {
      "name": "python3",
      "display_name": "Python 3"
    },
    "language_info": {
      "name": "python"
    }
  },
  "cells": [
    {
      "cell_type": "markdown",
      "metadata": {
        "id": "view-in-github",
        "colab_type": "text"
      },
      "source": [
        "<a href=\"https://colab.research.google.com/github/javvadisurekha/CA_Python/blob/main/Webscraping_IMDB.ipynb\" target=\"_parent\"><img src=\"https://colab.research.google.com/assets/colab-badge.svg\" alt=\"Open In Colab\"/></a>"
      ]
    },
    {
      "cell_type": "code",
      "execution_count": null,
      "metadata": {
        "id": "ZJjHFn3-QsxE"
      },
      "outputs": [],
      "source": [
        "from bs4 import BeautifulSoup\n",
        "import requests"
      ]
    },
    {
      "cell_type": "code",
      "source": [
        "url = \"https://www.imdb.com/list/ls051601789/\""
      ],
      "metadata": {
        "id": "_J4aTYL7QzYH"
      },
      "execution_count": null,
      "outputs": []
    },
    {
      "cell_type": "code",
      "source": [
        "response = requests.get(url)"
      ],
      "metadata": {
        "id": "G5_yaGXbQ1sA"
      },
      "execution_count": null,
      "outputs": []
    },
    {
      "cell_type": "code",
      "source": [
        "response"
      ],
      "metadata": {
        "colab": {
          "base_uri": "https://localhost:8080/"
        },
        "id": "IPMhTe_CSZj8",
        "outputId": "b6ebfaf4-5c90-474d-859e-3508f1bc4a4e"
      },
      "execution_count": null,
      "outputs": [
        {
          "output_type": "execute_result",
          "data": {
            "text/plain": [
              "<Response [200]>"
            ]
          },
          "metadata": {},
          "execution_count": 5
        }
      ]
    },
    {
      "cell_type": "code",
      "source": [
        "#response.content"
      ],
      "metadata": {
        "id": "SWSKsz-cScs5"
      },
      "execution_count": null,
      "outputs": []
    },
    {
      "cell_type": "code",
      "source": [
        "soup = BeautifulSoup(response.content,\"html.parser\")"
      ],
      "metadata": {
        "id": "niQvBzWdQ5q0"
      },
      "execution_count": null,
      "outputs": []
    },
    {
      "cell_type": "code",
      "source": [
        "contents = soup.find_all(\"div\",class_=\"lister-item-content\")"
      ],
      "metadata": {
        "id": "s-rpt_yaSQMW"
      },
      "execution_count": null,
      "outputs": []
    },
    {
      "cell_type": "code",
      "source": [
        "len(contents)"
      ],
      "metadata": {
        "colab": {
          "base_uri": "https://localhost:8080/"
        },
        "id": "qh6jL3d9SmUx",
        "outputId": "5ee366d2-607b-400a-f4a1-41f2fb36cdaa"
      },
      "execution_count": null,
      "outputs": [
        {
          "output_type": "execute_result",
          "data": {
            "text/plain": [
              "100"
            ]
          },
          "metadata": {},
          "execution_count": 9
        }
      ]
    },
    {
      "cell_type": "code",
      "source": [
        "headers = soup.find_all(\"h3\",class_ = \"lister-item-header\")"
      ],
      "metadata": {
        "id": "S1uIH8IpSpwN"
      },
      "execution_count": null,
      "outputs": []
    },
    {
      "cell_type": "code",
      "source": [
        "len(headers)"
      ],
      "metadata": {
        "colab": {
          "base_uri": "https://localhost:8080/"
        },
        "id": "x44XJecQpJzN",
        "outputId": "31ed1d7b-654e-439a-c61a-a8d08172d757"
      },
      "execution_count": null,
      "outputs": [
        {
          "output_type": "execute_result",
          "data": {
            "text/plain": [
              "100"
            ]
          },
          "metadata": {},
          "execution_count": 10
        }
      ]
    },
    {
      "cell_type": "code",
      "source": [
        "headings = []\n",
        "sl_nos = []\n",
        "years = []\n",
        "for header in headers:\n",
        "  sl_no = header.find(\"span\",class_ = \"lister-item-index\").text\n",
        "  heading = header.find(\"a\").text\n",
        "  year = header.find(\"span\",class_=\"lister-item-year\").text"
      ],
      "metadata": {
        "id": "oY6sccxopTTg"
      },
      "execution_count": null,
      "outputs": []
    },
    {
      "cell_type": "code",
      "source": [
        "print(headings)\n",
        "print(sl_nos)\n",
        "print(years)"
      ],
      "metadata": {
        "colab": {
          "base_uri": "https://localhost:8080/"
        },
        "id": "iVbmVZe5pzEb",
        "outputId": "3a7cf160-cbeb-440a-96ff-720aa10126ad"
      },
      "execution_count": null,
      "outputs": [
        {
          "output_type": "stream",
          "name": "stdout",
          "text": [
            "[]\n",
            "[]\n",
            "[]\n"
          ]
        }
      ]
    },
    {
      "cell_type": "code",
      "source": [
        "info=[]\n",
        "for header in headers:\n",
        "  record={}\n",
        "  record['sl_no']=header.find(\"span\",class_ = \"lister-item-index\").text\n",
        "  record['heading']=header.find(\"a\").text\n",
        "  record['year']=header.find(\"span\",class_=\"lister-item-year\").text\n",
        "  info.append(record)"
      ],
      "metadata": {
        "id": "exkqifgjrJSD"
      },
      "execution_count": 19,
      "outputs": []
    },
    {
      "cell_type": "code",
      "source": [
        "info"
      ],
      "metadata": {
        "id": "xdcdp7aIrsLD",
        "outputId": "779019ac-4033-4423-d2af-a75d03f1b0b0",
        "colab": {
          "base_uri": "https://localhost:8080/"
        }
      },
      "execution_count": 20,
      "outputs": [
        {
          "output_type": "execute_result",
          "data": {
            "text/plain": [
              "[{'sl_no': '1.', 'heading': 'Pulp Fiction', 'year': '(1994)'},\n",
              " {'sl_no': '2.', 'heading': 'Memento', 'year': '(2000)'},\n",
              " {'sl_no': '3.', 'heading': 'Big Fish', 'year': '(2003)'},\n",
              " {'sl_no': '4.', 'heading': 'The Pianist', 'year': '(2002)'},\n",
              " {'sl_no': '5.', 'heading': 'Reservoir Dogs', 'year': '(1992)'},\n",
              " {'sl_no': '6.', 'heading': 'Terminator 2: Judgment Day', 'year': '(1991)'},\n",
              " {'sl_no': '7.', 'heading': 'Snatch', 'year': '(2000)'},\n",
              " {'sl_no': '8.', 'heading': 'Bicycle Thieves', 'year': '(1948)'},\n",
              " {'sl_no': '9.', 'heading': 'Braveheart', 'year': '(1995)'},\n",
              " {'sl_no': '10.', 'heading': 'Warrior', 'year': '(2011)'},\n",
              " {'sl_no': '11.', 'heading': 'The Machinist', 'year': '(2004)'},\n",
              " {'sl_no': '12.', 'heading': 'Limitless', 'year': '(I) (2011)'},\n",
              " {'sl_no': '13.', 'heading': 'Jackie Brown', 'year': '(1997)'},\n",
              " {'sl_no': '14.', 'heading': 'Manhattan', 'year': '(1979)'},\n",
              " {'sl_no': '15.', 'heading': 'Good Will Hunting', 'year': '(1997)'},\n",
              " {'sl_no': '16.',\n",
              "  'heading': 'Eternal Sunshine of the Spotless Mind',\n",
              "  'year': '(2004)'},\n",
              " {'sl_no': '17.', 'heading': 'Drive', 'year': '(I) (2011)'},\n",
              " {'sl_no': '18.', 'heading': 'Trainspotting', 'year': '(1996)'},\n",
              " {'sl_no': '19.', 'heading': 'From Dusk Till Dawn', 'year': '(1996)'},\n",
              " {'sl_no': '20.', 'heading': 'Downfall', 'year': '(2004)'},\n",
              " {'sl_no': '21.', 'heading': 'Raising Arizona', 'year': '(1987)'},\n",
              " {'sl_no': '22.', 'heading': 'Mulholland Drive', 'year': '(2001)'},\n",
              " {'sl_no': '23.', 'heading': 'Ip Man', 'year': '(2008)'},\n",
              " {'sl_no': '24.', 'heading': 'Rain Man', 'year': '(1988)'},\n",
              " {'sl_no': '25.', 'heading': 'The Lincoln Lawyer', 'year': '(2011)'},\n",
              " {'sl_no': '26.', 'heading': \"Miller's Crossing\", 'year': '(1990)'},\n",
              " {'sl_no': '27.', 'heading': 'Tucker and Dale vs Evil', 'year': '(2010)'},\n",
              " {'sl_no': '28.', 'heading': 'Escape from Alcatraz', 'year': '(1979)'},\n",
              " {'sl_no': '29.', 'heading': 'In the Name of the Father', 'year': '(1993)'},\n",
              " {'sl_no': '30.', 'heading': 'Ronin', 'year': '(1998)'},\n",
              " {'sl_no': '31.', 'heading': 'The Last of the Mohicans', 'year': '(1992)'},\n",
              " {'sl_no': '32.', 'heading': 'The Karate Kid', 'year': '(1984)'},\n",
              " {'sl_no': '33.', 'heading': 'The Grey', 'year': '(2011)'},\n",
              " {'sl_no': '34.', 'heading': 'True Grit', 'year': '(2010)'},\n",
              " {'sl_no': '35.', 'heading': 'Black Hawk Down', 'year': '(2001)'},\n",
              " {'sl_no': '36.', 'heading': 'Lost in Translation', 'year': '(2003)'},\n",
              " {'sl_no': '37.', 'heading': 'Platoon', 'year': '(1986)'},\n",
              " {'sl_no': '38.', 'heading': 'Oldboy', 'year': '(2003)'},\n",
              " {'sl_no': '39.', 'heading': 'The Lady Vanishes', 'year': '(1938)'},\n",
              " {'sl_no': '40.', 'heading': 'The Man from Nowhere', 'year': '(2010)'},\n",
              " {'sl_no': '41.', 'heading': \"The King's Speech\", 'year': '(2010)'},\n",
              " {'sl_no': '42.',\n",
              "  'heading': 'The Girl with the Dragon Tattoo',\n",
              "  'year': '(2009)'},\n",
              " {'sl_no': '43.', 'heading': 'Following', 'year': '(1998)'},\n",
              " {'sl_no': '44.', 'heading': 'Battle Royale', 'year': '(2000)'},\n",
              " {'sl_no': '45.', 'heading': 'Barton Fink', 'year': '(1991)'},\n",
              " {'sl_no': '46.', 'heading': 'Let the Right One In', 'year': '(2008)'},\n",
              " {'sl_no': '47.', 'heading': 'Jarhead', 'year': '(2005)'},\n",
              " {'sl_no': '48.', 'heading': 'End of Watch', 'year': '(2012)'},\n",
              " {'sl_no': '49.', 'heading': 'Gandhi', 'year': '(1982)'},\n",
              " {'sl_no': '50.', 'heading': 'Audition', 'year': '(1999)'},\n",
              " {'sl_no': '51.', 'heading': 'The Artist', 'year': '(I) (2011)'},\n",
              " {'sl_no': '52.', 'heading': 'My Left Foot', 'year': '(1989)'},\n",
              " {'sl_no': '53.', 'heading': 'I Saw the Devil', 'year': '(2010)'},\n",
              " {'sl_no': '54.', 'heading': 'Sympathy for Mr. Vengeance', 'year': '(2002)'},\n",
              " {'sl_no': '55.', 'heading': 'Exam', 'year': '(2009)'},\n",
              " {'sl_no': '56.', 'heading': '21 Grams', 'year': '(2003)'},\n",
              " {'sl_no': '57.', 'heading': 'The Untouchables', 'year': '(1987)'},\n",
              " {'sl_no': '58.', 'heading': 'The Game', 'year': '(1997)'},\n",
              " {'sl_no': '59.', 'heading': 'The Hunt for Red October', 'year': '(1990)'},\n",
              " {'sl_no': '60.', 'heading': 'The Evil Dead', 'year': '(1981)'},\n",
              " {'sl_no': '61.', 'heading': 'Fearless', 'year': '(2006)'},\n",
              " {'sl_no': '62.', 'heading': 'Poolhall Junkies', 'year': '(2002)'},\n",
              " {'sl_no': '63.', 'heading': \"Ferris Bueller's Day Off\", 'year': '(1986)'},\n",
              " {'sl_no': '64.', 'heading': \"What's Eating Gilbert Grape\", 'year': '(1993)'},\n",
              " {'sl_no': '65.', 'heading': '13 Assassins', 'year': '(2010)'},\n",
              " {'sl_no': '66.',\n",
              "  'heading': \"The Girl Who Kicked the Hornet's Nest\",\n",
              "  'year': '(2009)'},\n",
              " {'sl_no': '67.', 'heading': 'Trollhunter', 'year': '(2010)'},\n",
              " {'sl_no': '68.', 'heading': 'Ip Man 2', 'year': '(2010)'},\n",
              " {'sl_no': '69.', 'heading': 'The Double', 'year': '(I) (2011)'},\n",
              " {'sl_no': '70.', 'heading': 'Big Daddy', 'year': '(1999)'},\n",
              " {'sl_no': '71.', 'heading': 'Highlander', 'year': '(1986)'},\n",
              " {'sl_no': '72.', 'heading': 'The War', 'year': '(1994)'},\n",
              " {'sl_no': '73.',\n",
              "  'heading': 'The Girl Who Played with Fire',\n",
              "  'year': '(2009)'},\n",
              " {'sl_no': '74.', 'heading': 'Margin Call', 'year': '(2011)'},\n",
              " {'sl_no': '75.', 'heading': 'Top Gun', 'year': '(1986)'},\n",
              " {'sl_no': '76.', 'heading': 'Liar Liar', 'year': '(1997)'},\n",
              " {'sl_no': '77.', 'heading': 'Act of Valor', 'year': '(2012)'},\n",
              " {'sl_no': '78.', 'heading': 'Along Came a Spider', 'year': '(2001)'},\n",
              " {'sl_no': '79.', 'heading': 'Clerks', 'year': '(1994)'},\n",
              " {'sl_no': '80.', 'heading': 'The Hunger Games', 'year': '(2012)'},\n",
              " {'sl_no': '81.', 'heading': 'Session 9', 'year': '(2001)'},\n",
              " {'sl_no': '82.', 'heading': 'Thor', 'year': '(2011)'},\n",
              " {'sl_no': '83.', 'heading': \"The Devil's Double\", 'year': '(2011)'},\n",
              " {'sl_no': '84.', 'heading': 'Goon', 'year': '(2011)'},\n",
              " {'sl_no': '85.', 'heading': 'The Awakening', 'year': '(I) (2011)'},\n",
              " {'sl_no': '86.', 'heading': 'Boy Wonder', 'year': '(2010)'},\n",
              " {'sl_no': '87.', 'heading': 'Sling Blade', 'year': '(1996)'},\n",
              " {'sl_no': '88.', 'heading': 'Haywire', 'year': '(2011)'},\n",
              " {'sl_no': '89.', 'heading': 'Citizen Gangster', 'year': '(2011)'},\n",
              " {'sl_no': '90.',\n",
              "  'heading': 'Captain America: The First Avenger',\n",
              "  'year': '(2011)'},\n",
              " {'sl_no': '91.', 'heading': 'The Escapist', 'year': '(2008)'},\n",
              " {'sl_no': '92.', 'heading': 'Killer Elite', 'year': '(2011)'},\n",
              " {'sl_no': '93.', 'heading': 'Blitz', 'year': '(2011)'},\n",
              " {'sl_no': '94.', 'heading': 'Identity', 'year': '(2003)'},\n",
              " {'sl_no': '95.', 'heading': 'Vanilla Sky', 'year': '(2001)'},\n",
              " {'sl_no': '96.', 'heading': 'Traffic', 'year': '(2000)'},\n",
              " {'sl_no': '97.', 'heading': 'Safety Not Guaranteed', 'year': '(2012)'},\n",
              " {'sl_no': '98.', 'heading': 'Super 8', 'year': '(2011)'},\n",
              " {'sl_no': '99.', 'heading': 'The Raven', 'year': '(I) (2012)'},\n",
              " {'sl_no': '100.', 'heading': 'All Good Things', 'year': '(2010)'}]"
            ]
          },
          "metadata": {},
          "execution_count": 20
        }
      ]
    },
    {
      "cell_type": "code",
      "source": [
        "import pandas as pd"
      ],
      "metadata": {
        "id": "vg40MR-nsfjk"
      },
      "execution_count": 21,
      "outputs": []
    },
    {
      "cell_type": "code",
      "source": [
        "df = pd.DataFrame(info)"
      ],
      "metadata": {
        "id": "4l0dThg7sieX"
      },
      "execution_count": 22,
      "outputs": []
    },
    {
      "cell_type": "code",
      "source": [
        "df"
      ],
      "metadata": {
        "id": "czCi58l7snhd",
        "outputId": "ce50ab83-12ea-40ae-d6cd-f8e9339b8cc2",
        "colab": {
          "base_uri": "https://localhost:8080/",
          "height": 424
        }
      },
      "execution_count": 23,
      "outputs": [
        {
          "output_type": "execute_result",
          "data": {
            "text/plain": [
              "   sl_no                heading        year\n",
              "0     1.           Pulp Fiction      (1994)\n",
              "1     2.                Memento      (2000)\n",
              "2     3.               Big Fish      (2003)\n",
              "3     4.            The Pianist      (2002)\n",
              "4     5.         Reservoir Dogs      (1992)\n",
              "..   ...                    ...         ...\n",
              "95   96.                Traffic      (2000)\n",
              "96   97.  Safety Not Guaranteed      (2012)\n",
              "97   98.                Super 8      (2011)\n",
              "98   99.              The Raven  (I) (2012)\n",
              "99  100.        All Good Things      (2010)\n",
              "\n",
              "[100 rows x 3 columns]"
            ],
            "text/html": [
              "\n",
              "  <div id=\"df-37793367-4c2a-497e-a139-3d0e895b9d0c\">\n",
              "    <div class=\"colab-df-container\">\n",
              "      <div>\n",
              "<style scoped>\n",
              "    .dataframe tbody tr th:only-of-type {\n",
              "        vertical-align: middle;\n",
              "    }\n",
              "\n",
              "    .dataframe tbody tr th {\n",
              "        vertical-align: top;\n",
              "    }\n",
              "\n",
              "    .dataframe thead th {\n",
              "        text-align: right;\n",
              "    }\n",
              "</style>\n",
              "<table border=\"1\" class=\"dataframe\">\n",
              "  <thead>\n",
              "    <tr style=\"text-align: right;\">\n",
              "      <th></th>\n",
              "      <th>sl_no</th>\n",
              "      <th>heading</th>\n",
              "      <th>year</th>\n",
              "    </tr>\n",
              "  </thead>\n",
              "  <tbody>\n",
              "    <tr>\n",
              "      <th>0</th>\n",
              "      <td>1.</td>\n",
              "      <td>Pulp Fiction</td>\n",
              "      <td>(1994)</td>\n",
              "    </tr>\n",
              "    <tr>\n",
              "      <th>1</th>\n",
              "      <td>2.</td>\n",
              "      <td>Memento</td>\n",
              "      <td>(2000)</td>\n",
              "    </tr>\n",
              "    <tr>\n",
              "      <th>2</th>\n",
              "      <td>3.</td>\n",
              "      <td>Big Fish</td>\n",
              "      <td>(2003)</td>\n",
              "    </tr>\n",
              "    <tr>\n",
              "      <th>3</th>\n",
              "      <td>4.</td>\n",
              "      <td>The Pianist</td>\n",
              "      <td>(2002)</td>\n",
              "    </tr>\n",
              "    <tr>\n",
              "      <th>4</th>\n",
              "      <td>5.</td>\n",
              "      <td>Reservoir Dogs</td>\n",
              "      <td>(1992)</td>\n",
              "    </tr>\n",
              "    <tr>\n",
              "      <th>...</th>\n",
              "      <td>...</td>\n",
              "      <td>...</td>\n",
              "      <td>...</td>\n",
              "    </tr>\n",
              "    <tr>\n",
              "      <th>95</th>\n",
              "      <td>96.</td>\n",
              "      <td>Traffic</td>\n",
              "      <td>(2000)</td>\n",
              "    </tr>\n",
              "    <tr>\n",
              "      <th>96</th>\n",
              "      <td>97.</td>\n",
              "      <td>Safety Not Guaranteed</td>\n",
              "      <td>(2012)</td>\n",
              "    </tr>\n",
              "    <tr>\n",
              "      <th>97</th>\n",
              "      <td>98.</td>\n",
              "      <td>Super 8</td>\n",
              "      <td>(2011)</td>\n",
              "    </tr>\n",
              "    <tr>\n",
              "      <th>98</th>\n",
              "      <td>99.</td>\n",
              "      <td>The Raven</td>\n",
              "      <td>(I) (2012)</td>\n",
              "    </tr>\n",
              "    <tr>\n",
              "      <th>99</th>\n",
              "      <td>100.</td>\n",
              "      <td>All Good Things</td>\n",
              "      <td>(2010)</td>\n",
              "    </tr>\n",
              "  </tbody>\n",
              "</table>\n",
              "<p>100 rows × 3 columns</p>\n",
              "</div>\n",
              "      <button class=\"colab-df-convert\" onclick=\"convertToInteractive('df-37793367-4c2a-497e-a139-3d0e895b9d0c')\"\n",
              "              title=\"Convert this dataframe to an interactive table.\"\n",
              "              style=\"display:none;\">\n",
              "        \n",
              "  <svg xmlns=\"http://www.w3.org/2000/svg\" height=\"24px\"viewBox=\"0 0 24 24\"\n",
              "       width=\"24px\">\n",
              "    <path d=\"M0 0h24v24H0V0z\" fill=\"none\"/>\n",
              "    <path d=\"M18.56 5.44l.94 2.06.94-2.06 2.06-.94-2.06-.94-.94-2.06-.94 2.06-2.06.94zm-11 1L8.5 8.5l.94-2.06 2.06-.94-2.06-.94L8.5 2.5l-.94 2.06-2.06.94zm10 10l.94 2.06.94-2.06 2.06-.94-2.06-.94-.94-2.06-.94 2.06-2.06.94z\"/><path d=\"M17.41 7.96l-1.37-1.37c-.4-.4-.92-.59-1.43-.59-.52 0-1.04.2-1.43.59L10.3 9.45l-7.72 7.72c-.78.78-.78 2.05 0 2.83L4 21.41c.39.39.9.59 1.41.59.51 0 1.02-.2 1.41-.59l7.78-7.78 2.81-2.81c.8-.78.8-2.07 0-2.86zM5.41 20L4 18.59l7.72-7.72 1.47 1.35L5.41 20z\"/>\n",
              "  </svg>\n",
              "      </button>\n",
              "      \n",
              "  <style>\n",
              "    .colab-df-container {\n",
              "      display:flex;\n",
              "      flex-wrap:wrap;\n",
              "      gap: 12px;\n",
              "    }\n",
              "\n",
              "    .colab-df-convert {\n",
              "      background-color: #E8F0FE;\n",
              "      border: none;\n",
              "      border-radius: 50%;\n",
              "      cursor: pointer;\n",
              "      display: none;\n",
              "      fill: #1967D2;\n",
              "      height: 32px;\n",
              "      padding: 0 0 0 0;\n",
              "      width: 32px;\n",
              "    }\n",
              "\n",
              "    .colab-df-convert:hover {\n",
              "      background-color: #E2EBFA;\n",
              "      box-shadow: 0px 1px 2px rgba(60, 64, 67, 0.3), 0px 1px 3px 1px rgba(60, 64, 67, 0.15);\n",
              "      fill: #174EA6;\n",
              "    }\n",
              "\n",
              "    [theme=dark] .colab-df-convert {\n",
              "      background-color: #3B4455;\n",
              "      fill: #D2E3FC;\n",
              "    }\n",
              "\n",
              "    [theme=dark] .colab-df-convert:hover {\n",
              "      background-color: #434B5C;\n",
              "      box-shadow: 0px 1px 3px 1px rgba(0, 0, 0, 0.15);\n",
              "      filter: drop-shadow(0px 1px 2px rgba(0, 0, 0, 0.3));\n",
              "      fill: #FFFFFF;\n",
              "    }\n",
              "  </style>\n",
              "\n",
              "      <script>\n",
              "        const buttonEl =\n",
              "          document.querySelector('#df-37793367-4c2a-497e-a139-3d0e895b9d0c button.colab-df-convert');\n",
              "        buttonEl.style.display =\n",
              "          google.colab.kernel.accessAllowed ? 'block' : 'none';\n",
              "\n",
              "        async function convertToInteractive(key) {\n",
              "          const element = document.querySelector('#df-37793367-4c2a-497e-a139-3d0e895b9d0c');\n",
              "          const dataTable =\n",
              "            await google.colab.kernel.invokeFunction('convertToInteractive',\n",
              "                                                     [key], {});\n",
              "          if (!dataTable) return;\n",
              "\n",
              "          const docLinkHtml = 'Like what you see? Visit the ' +\n",
              "            '<a target=\"_blank\" href=https://colab.research.google.com/notebooks/data_table.ipynb>data table notebook</a>'\n",
              "            + ' to learn more about interactive tables.';\n",
              "          element.innerHTML = '';\n",
              "          dataTable['output_type'] = 'display_data';\n",
              "          await google.colab.output.renderOutput(dataTable, element);\n",
              "          const docLink = document.createElement('div');\n",
              "          docLink.innerHTML = docLinkHtml;\n",
              "          element.appendChild(docLink);\n",
              "        }\n",
              "      </script>\n",
              "    </div>\n",
              "  </div>\n",
              "  "
            ]
          },
          "metadata": {},
          "execution_count": 23
        }
      ]
    }
  ]
}