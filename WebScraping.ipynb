{
  "nbformat": 4,
  "nbformat_minor": 0,
  "metadata": {
    "colab": {
      "provenance": [],
      "authorship_tag": "ABX9TyMkjXe2UisST9shU/tTPMaa",
      "include_colab_link": true
    },
    "kernelspec": {
      "name": "python3",
      "display_name": "Python 3"
    },
    "language_info": {
      "name": "python"
    }
  },
  "cells": [
    {
      "cell_type": "markdown",
      "metadata": {
        "id": "view-in-github",
        "colab_type": "text"
      },
      "source": [
        "<a href=\"https://colab.research.google.com/github/javvadisurekha/CA_Python/blob/main/WebScraping.ipynb\" target=\"_parent\"><img src=\"https://colab.research.google.com/assets/colab-badge.svg\" alt=\"Open In Colab\"/></a>"
      ]
    },
    {
      "cell_type": "code",
      "execution_count": 1,
      "metadata": {
        "id": "dDJtznycvhvo"
      },
      "outputs": [],
      "source": [
        "from bs4 import BeautifulSoup\n",
        "import requests\n",
        "import openpyxl\n",
        "import pandas as pd"
      ]
    },
    {
      "cell_type": "code",
      "source": [
        "# working with excel using 'openpyxl' module\n",
        "excel = openpyxl.Workbook()\n",
        "sheet = excel.active\n",
        "sheet.title = \"Top 250 Movies\"\n",
        "sheet.append([\"Movie Rank\", \"Movie Name\", \"Year of Release\", \"Rating\"])\n",
        "\n",
        "\n",
        "# requesting source website using 'request' module\n",
        "source = requests.get('https://www.imdb.com/chart/top/?ref_=nv_mv_250')\n",
        "\n",
        "# Creating BeautifulSoup Object\n",
        "soup = BeautifulSoup(source.text, 'html.parser')"
      ],
      "metadata": {
        "id": "lhEZnRvcvp76"
      },
      "execution_count": 2,
      "outputs": []
    },
    {
      "cell_type": "code",
      "source": [
        "# Fetching Movies details form soup object\n",
        "movies_list = soup.find('tbody', class_=\"lister-list\").find_all('tr')\n",
        "for movie in movies_list:\n",
        "  name = movie.find('td', class_=\"titleColumn\").a.text\n",
        "  rank =  movie.find('td', class_=\"titleColumn\").get_text(strip = True).split('.')[0]\n",
        "  year = movie.find('td', class_=\"titleColumn\").span.text.strip('()')\n",
        "  rating = movie.find('td', class_=\"ratingColumn\").strong.text\n",
        "\n",
        "# appending data to excel file \n",
        "  sheet.append([rank, name, year, rating])\n",
        "\n",
        "excel.save('Top 250 Movie.xlsx')"
      ],
      "metadata": {
        "id": "91PdDKqjvwub"
      },
      "execution_count": 3,
      "outputs": []
    },
    {
      "cell_type": "code",
      "source": [
        "import sqlite3\n",
        "\n",
        "# import \"itertools\" to perform forloop on multiple lists at one time \n",
        "import itertools\n",
        "\n",
        "# Creating SQLITE3 Database\n",
        "db = sqlite3.connect('movies.db')\n",
        "cur = db.cursor()\n",
        "\n",
        "# creating dataframe using \"pandas\"\n",
        "df = pd.read_excel('Top 250 Movie.xlsx')\n",
        "df.dropna()"
      ],
      "metadata": {
        "colab": {
          "base_uri": "https://localhost:8080/",
          "height": 424
        },
        "id": "QKb7AQYHyYf9",
        "outputId": "22a5dc03-15b7-4258-937d-e24c34068467"
      },
      "execution_count": 4,
      "outputs": [
        {
          "output_type": "execute_result",
          "data": {
            "text/plain": [
              "     Movie Rank                Movie Name  Year of Release  Rating\n",
              "0             1  The Shawshank Redemption             1994     9.2\n",
              "1             2             The Godfather             1972     9.2\n",
              "2             3           The Dark Knight             2008     9.0\n",
              "3             4     The Godfather Part II             1974     9.0\n",
              "4             5              12 Angry Men             1957     9.0\n",
              "..          ...                       ...              ...     ...\n",
              "245         246               Dersu Uzala             1975     8.0\n",
              "246         247                   Aladdin             1992     8.0\n",
              "247         248            The Iron Giant             1999     8.0\n",
              "248         249                  The Help             2011     8.0\n",
              "249         250                    Gandhi             1982     8.0\n",
              "\n",
              "[250 rows x 4 columns]"
            ],
            "text/html": [
              "\n",
              "  <div id=\"df-7eec59b3-8fa7-43fe-80d4-f335dfa73bd9\">\n",
              "    <div class=\"colab-df-container\">\n",
              "      <div>\n",
              "<style scoped>\n",
              "    .dataframe tbody tr th:only-of-type {\n",
              "        vertical-align: middle;\n",
              "    }\n",
              "\n",
              "    .dataframe tbody tr th {\n",
              "        vertical-align: top;\n",
              "    }\n",
              "\n",
              "    .dataframe thead th {\n",
              "        text-align: right;\n",
              "    }\n",
              "</style>\n",
              "<table border=\"1\" class=\"dataframe\">\n",
              "  <thead>\n",
              "    <tr style=\"text-align: right;\">\n",
              "      <th></th>\n",
              "      <th>Movie Rank</th>\n",
              "      <th>Movie Name</th>\n",
              "      <th>Year of Release</th>\n",
              "      <th>Rating</th>\n",
              "    </tr>\n",
              "  </thead>\n",
              "  <tbody>\n",
              "    <tr>\n",
              "      <th>0</th>\n",
              "      <td>1</td>\n",
              "      <td>The Shawshank Redemption</td>\n",
              "      <td>1994</td>\n",
              "      <td>9.2</td>\n",
              "    </tr>\n",
              "    <tr>\n",
              "      <th>1</th>\n",
              "      <td>2</td>\n",
              "      <td>The Godfather</td>\n",
              "      <td>1972</td>\n",
              "      <td>9.2</td>\n",
              "    </tr>\n",
              "    <tr>\n",
              "      <th>2</th>\n",
              "      <td>3</td>\n",
              "      <td>The Dark Knight</td>\n",
              "      <td>2008</td>\n",
              "      <td>9.0</td>\n",
              "    </tr>\n",
              "    <tr>\n",
              "      <th>3</th>\n",
              "      <td>4</td>\n",
              "      <td>The Godfather Part II</td>\n",
              "      <td>1974</td>\n",
              "      <td>9.0</td>\n",
              "    </tr>\n",
              "    <tr>\n",
              "      <th>4</th>\n",
              "      <td>5</td>\n",
              "      <td>12 Angry Men</td>\n",
              "      <td>1957</td>\n",
              "      <td>9.0</td>\n",
              "    </tr>\n",
              "    <tr>\n",
              "      <th>...</th>\n",
              "      <td>...</td>\n",
              "      <td>...</td>\n",
              "      <td>...</td>\n",
              "      <td>...</td>\n",
              "    </tr>\n",
              "    <tr>\n",
              "      <th>245</th>\n",
              "      <td>246</td>\n",
              "      <td>Dersu Uzala</td>\n",
              "      <td>1975</td>\n",
              "      <td>8.0</td>\n",
              "    </tr>\n",
              "    <tr>\n",
              "      <th>246</th>\n",
              "      <td>247</td>\n",
              "      <td>Aladdin</td>\n",
              "      <td>1992</td>\n",
              "      <td>8.0</td>\n",
              "    </tr>\n",
              "    <tr>\n",
              "      <th>247</th>\n",
              "      <td>248</td>\n",
              "      <td>The Iron Giant</td>\n",
              "      <td>1999</td>\n",
              "      <td>8.0</td>\n",
              "    </tr>\n",
              "    <tr>\n",
              "      <th>248</th>\n",
              "      <td>249</td>\n",
              "      <td>The Help</td>\n",
              "      <td>2011</td>\n",
              "      <td>8.0</td>\n",
              "    </tr>\n",
              "    <tr>\n",
              "      <th>249</th>\n",
              "      <td>250</td>\n",
              "      <td>Gandhi</td>\n",
              "      <td>1982</td>\n",
              "      <td>8.0</td>\n",
              "    </tr>\n",
              "  </tbody>\n",
              "</table>\n",
              "<p>250 rows × 4 columns</p>\n",
              "</div>\n",
              "      <button class=\"colab-df-convert\" onclick=\"convertToInteractive('df-7eec59b3-8fa7-43fe-80d4-f335dfa73bd9')\"\n",
              "              title=\"Convert this dataframe to an interactive table.\"\n",
              "              style=\"display:none;\">\n",
              "        \n",
              "  <svg xmlns=\"http://www.w3.org/2000/svg\" height=\"24px\"viewBox=\"0 0 24 24\"\n",
              "       width=\"24px\">\n",
              "    <path d=\"M0 0h24v24H0V0z\" fill=\"none\"/>\n",
              "    <path d=\"M18.56 5.44l.94 2.06.94-2.06 2.06-.94-2.06-.94-.94-2.06-.94 2.06-2.06.94zm-11 1L8.5 8.5l.94-2.06 2.06-.94-2.06-.94L8.5 2.5l-.94 2.06-2.06.94zm10 10l.94 2.06.94-2.06 2.06-.94-2.06-.94-.94-2.06-.94 2.06-2.06.94z\"/><path d=\"M17.41 7.96l-1.37-1.37c-.4-.4-.92-.59-1.43-.59-.52 0-1.04.2-1.43.59L10.3 9.45l-7.72 7.72c-.78.78-.78 2.05 0 2.83L4 21.41c.39.39.9.59 1.41.59.51 0 1.02-.2 1.41-.59l7.78-7.78 2.81-2.81c.8-.78.8-2.07 0-2.86zM5.41 20L4 18.59l7.72-7.72 1.47 1.35L5.41 20z\"/>\n",
              "  </svg>\n",
              "      </button>\n",
              "      \n",
              "  <style>\n",
              "    .colab-df-container {\n",
              "      display:flex;\n",
              "      flex-wrap:wrap;\n",
              "      gap: 12px;\n",
              "    }\n",
              "\n",
              "    .colab-df-convert {\n",
              "      background-color: #E8F0FE;\n",
              "      border: none;\n",
              "      border-radius: 50%;\n",
              "      cursor: pointer;\n",
              "      display: none;\n",
              "      fill: #1967D2;\n",
              "      height: 32px;\n",
              "      padding: 0 0 0 0;\n",
              "      width: 32px;\n",
              "    }\n",
              "\n",
              "    .colab-df-convert:hover {\n",
              "      background-color: #E2EBFA;\n",
              "      box-shadow: 0px 1px 2px rgba(60, 64, 67, 0.3), 0px 1px 3px 1px rgba(60, 64, 67, 0.15);\n",
              "      fill: #174EA6;\n",
              "    }\n",
              "\n",
              "    [theme=dark] .colab-df-convert {\n",
              "      background-color: #3B4455;\n",
              "      fill: #D2E3FC;\n",
              "    }\n",
              "\n",
              "    [theme=dark] .colab-df-convert:hover {\n",
              "      background-color: #434B5C;\n",
              "      box-shadow: 0px 1px 3px 1px rgba(0, 0, 0, 0.15);\n",
              "      filter: drop-shadow(0px 1px 2px rgba(0, 0, 0, 0.3));\n",
              "      fill: #FFFFFF;\n",
              "    }\n",
              "  </style>\n",
              "\n",
              "      <script>\n",
              "        const buttonEl =\n",
              "          document.querySelector('#df-7eec59b3-8fa7-43fe-80d4-f335dfa73bd9 button.colab-df-convert');\n",
              "        buttonEl.style.display =\n",
              "          google.colab.kernel.accessAllowed ? 'block' : 'none';\n",
              "\n",
              "        async function convertToInteractive(key) {\n",
              "          const element = document.querySelector('#df-7eec59b3-8fa7-43fe-80d4-f335dfa73bd9');\n",
              "          const dataTable =\n",
              "            await google.colab.kernel.invokeFunction('convertToInteractive',\n",
              "                                                     [key], {});\n",
              "          if (!dataTable) return;\n",
              "\n",
              "          const docLinkHtml = 'Like what you see? Visit the ' +\n",
              "            '<a target=\"_blank\" href=https://colab.research.google.com/notebooks/data_table.ipynb>data table notebook</a>'\n",
              "            + ' to learn more about interactive tables.';\n",
              "          element.innerHTML = '';\n",
              "          dataTable['output_type'] = 'display_data';\n",
              "          await google.colab.output.renderOutput(dataTable, element);\n",
              "          const docLink = document.createElement('div');\n",
              "          docLink.innerHTML = docLinkHtml;\n",
              "          element.appendChild(docLink);\n",
              "        }\n",
              "      </script>\n",
              "    </div>\n",
              "  </div>\n",
              "  "
            ]
          },
          "metadata": {},
          "execution_count": 4
        }
      ]
    },
    {
      "cell_type": "code",
      "source": [
        "# max rating\n",
        "max_rating = df['Rating'].max()\n",
        "max_id = df['Rating'].idxmax()\n",
        "max_name = df.loc[max_id]['Movie Name']"
      ],
      "metadata": {
        "id": "aJAIlrEdEL9n"
      },
      "execution_count": 14,
      "outputs": []
    },
    {
      "cell_type": "code",
      "source": [
        "# min rating\n",
        "min_rating = df['Rating'].min()\n",
        "min_id = df['Rating'].idxmin()\n",
        "min_name = df.loc[min_id]['Movie Name']"
      ],
      "metadata": {
        "id": "z1S6izNWEO2I"
      },
      "execution_count": 15,
      "outputs": []
    },
    {
      "cell_type": "code",
      "source": [
        "# oldest movie name and year\n",
        "oldest_movie = df['Year of Release'].min()\n",
        "old_id = df['Year of Release'].idxmin()\n",
        "old_name = df.loc[old_id]['Movie Name']"
      ],
      "metadata": {
        "id": "_Gt6UhdhEQO1"
      },
      "execution_count": 16,
      "outputs": []
    },
    {
      "cell_type": "code",
      "source": [
        "# Newest movie name and year\n",
        "newest_movie = df['Year of Release'].max()\n",
        "new_id = df['Year of Release'].idxmax()\n",
        "new_name = df.loc[new_id]['Movie Name']"
      ],
      "metadata": {
        "id": "AgBg9XmNETeA"
      },
      "execution_count": 17,
      "outputs": []
    },
    {
      "cell_type": "code",
      "source": [
        "#Printing Data\n",
        "\n",
        "print(f\"----------------------------\\nMaximum Rating : {max_name} {max_rating}\")\n",
        "print(f\"Minimum Rating : {min_name} {min_rating}\")\n",
        "print(f\"Oldest Movie : {old_name} {oldest_movie}\")\n",
        "print(f\"Newest Movie : {new_name} {newest_movie}\\n-----------------------------\")"
      ],
      "metadata": {
        "colab": {
          "base_uri": "https://localhost:8080/"
        },
        "id": "yjXDBzvxEVEw",
        "outputId": "7f95e13e-a5f4-4379-b750-5a98f14393cc"
      },
      "execution_count": 18,
      "outputs": [
        {
          "output_type": "stream",
          "name": "stdout",
          "text": [
            "----------------------------\n",
            "Maximum Rating : The Shawshank Redemption 9.2\n",
            "Minimum Rating : Ford v Ferrari 8.0\n",
            "Oldest Movie : The Kid 1921\n",
            "Newest Movie : Top Gun: Maverick 2022\n",
            "-----------------------------\n"
          ]
        }
      ]
    },
    {
      "cell_type": "code",
      "source": [
        "# Ninties Movie Data Filtering --------------------------------\n",
        "\n",
        "movie_old = df['Year of Release'] < 2000\n",
        "\n",
        "data_dict = df[movie_old].to_dict()\n",
        "\n",
        "movies_90s = data_dict['Movie Name']\n",
        "movie_rank = []\n",
        "movie_name = []\n",
        "movie_year = []\n",
        "movie_rating = []\n",
        "\n",
        "for key, value in data_dict['Movie Rank'].items():\n",
        "    movie_rank.append(value)\n",
        "\n",
        "for key, value in data_dict['Movie Name'].items():\n",
        "    movie_name.append(value)\n",
        "\n",
        "for key, value in data_dict['Year of Release'].items():\n",
        "    movie_year.append(value)\n",
        "\n",
        "for key, value in data_dict['Rating'].items():\n",
        "    movie_rating.append(value)\n",
        "\n",
        "# ------------------------------------------"
      ],
      "metadata": {
        "id": "6sSrYl4_EXbN"
      },
      "execution_count": 19,
      "outputs": []
    },
    {
      "cell_type": "code",
      "source": [
        "# Table Creation for ninties movies\n",
        "cur.execute('''CREATE TABLE IF NOT EXISTS `ninties_movies` (id INTEGER PRIMARY KEY, rank INTEGER, title VARCHAR(255), year INTEGER, rating Real)''')\n",
        "\n",
        "for (a,b,c,d) in zip(movie_rank, movie_name, movie_year, movie_rating):\n",
        "    # replacing ' from Movie Names\n",
        "    b = b.replace(\"'\",\"\")\n",
        "\n",
        "    # CommentIn this if Data Already Inserted before another Run\n",
        "cur.execute(f\"INSERT INTO `ninties_movies` ( `rank`, `title`, `year`, `rating`) VALUES ( {a}, '{b}', {c}, {d})\" )"
      ],
      "metadata": {
        "colab": {
          "base_uri": "https://localhost:8080/"
        },
        "id": "HpOiT3a4Ed_L",
        "outputId": "b9c57f0c-f398-4579-dda0-6d80716a9569"
      },
      "execution_count": 20,
      "outputs": [
        {
          "output_type": "execute_result",
          "data": {
            "text/plain": [
              "<sqlite3.Cursor at 0x7f03f922ace0>"
            ]
          },
          "metadata": {},
          "execution_count": 20
        }
      ]
    },
    {
      "cell_type": "code",
      "source": [
        "# Twenties Movie Data Filtering --------------------------------\n",
        "\n",
        "movie_new = df['Year of Release'] >= 2000\n",
        "\n",
        "data_dict_new = df[movie_new].to_dict()\n",
        "\n",
        "movies_90s = data_dict['Movie Name']\n",
        "\n",
        "# Lists to store different column data into individually\n",
        "movie_rank_new = []\n",
        "movie_name_new = []\n",
        "movie_year_new = []\n",
        "movie_rating_new = []\n",
        "\n",
        "for key, value in data_dict_new['Movie Rank'].items():\n",
        "    movie_rank_new.append(value)\n",
        "\n",
        "for key, value in data_dict_new['Movie Name'].items():\n",
        "    movie_name_new.append(value)\n",
        "\n",
        "for key, value in data_dict_new['Year of Release'].items():\n",
        "    movie_year_new.append(value)\n",
        "\n",
        "for key, value in data_dict_new['Rating'].items():\n",
        "    movie_rating_new.append(value)\n"
      ],
      "metadata": {
        "id": "gkCgBy0BEgLC"
      },
      "execution_count": 21,
      "outputs": []
    },
    {
      "cell_type": "code",
      "source": [
        "# Table Creation for twenties movies\n",
        "cur.execute('''CREATE TABLE IF NOT EXISTS `twenties_movies` (id INTEGER PRIMARY KEY, rank INTEGER, title VARCHAR(255), year INTEGER, rating Real)''')\n",
        "\n",
        "for (a,b,c,d) in zip(movie_rank_new, movie_name_new, movie_year_new, movie_rating_new):\n",
        "    # replacing ' from Movie Names\n",
        "    b = b.replace(\"'\",\"\")\n",
        "\n",
        "    # CommentIn this if Data Already Inserted before another Run\n",
        "cur.execute(f\"INSERT INTO `twenties_movies` ( `rank`, `title`, `year`, `rating`) VALUES ( {a}, '{b}', {c}, {d})\" )\n",
        "    \n",
        "db.commit()"
      ],
      "metadata": {
        "id": "Sx17FmKzEhti"
      },
      "execution_count": 25,
      "outputs": []
    },
    {
      "cell_type": "code",
      "source": [
        "# Table Creation for twenties movies\n",
        "cur.execute('''CREATE TABLE IF NOT EXISTS `twenties_movies` (id INTEGER PRIMARY KEY, rank INTEGER, title VARCHAR(255), year INTEGER, rating Real)''')\n",
        "\n",
        "for i in range(len(df)):\n",
        "  \n",
        "      # CommentIn this if Data Already Inserted before another Run\n",
        "       cur.execute(f\"INSERT INTO `twenties_movies` ( `rank`, `title`, `year`, `rating`) VALUES ( {a}, '{b}', {c}, {d})\" )\n",
        "    \n",
        "db.commit()"
      ],
      "metadata": {
        "id": "3i7-CVMQHFfy"
      },
      "execution_count": 28,
      "outputs": []
    },
    {
      "cell_type": "code",
      "source": [
        "cur.execute('''SELECT * FROM twenties_movies''')\n",
        "results = cur.fetchall()\n",
        "print(results)"
      ],
      "metadata": {
        "colab": {
          "base_uri": "https://localhost:8080/"
        },
        "id": "53sLd-R5Ej04",
        "outputId": "af29fab0-f0e4-43ea-e5f0-7737df89094b"
      },
      "execution_count": 29,
      "outputs": [
        {
          "output_type": "stream",
          "name": "stdout",
          "text": [
            "[(1, 249, 'The Help', 2011, 8.0), (2, 249, 'The Help', 2011, 8.0), (3, 249, 'The Help', 2011, 8.0), (4, 249, 'The Help', 2011, 8.0), (5, 249, 'The Help', 2011, 8.0), (6, 249, 'The Help', 2011, 8.0), (7, 249, 'The Help', 2011, 8.0), (8, 249, 'The Help', 2011, 8.0), (9, 249, 'The Help', 2011, 8.0), (10, 249, 'The Help', 2011, 8.0), (11, 249, 'The Help', 2011, 8.0), (12, 249, 'The Help', 2011, 8.0), (13, 249, 'The Help', 2011, 8.0), (14, 249, 'The Help', 2011, 8.0), (15, 249, 'The Help', 2011, 8.0), (16, 249, 'The Help', 2011, 8.0), (17, 249, 'The Help', 2011, 8.0), (18, 249, 'The Help', 2011, 8.0), (19, 249, 'The Help', 2011, 8.0), (20, 249, 'The Help', 2011, 8.0), (21, 249, 'The Help', 2011, 8.0), (22, 249, 'The Help', 2011, 8.0), (23, 249, 'The Help', 2011, 8.0), (24, 249, 'The Help', 2011, 8.0), (25, 249, 'The Help', 2011, 8.0), (26, 249, 'The Help', 2011, 8.0), (27, 249, 'The Help', 2011, 8.0), (28, 249, 'The Help', 2011, 8.0), (29, 249, 'The Help', 2011, 8.0), (30, 249, 'The Help', 2011, 8.0), (31, 249, 'The Help', 2011, 8.0), (32, 249, 'The Help', 2011, 8.0), (33, 249, 'The Help', 2011, 8.0), (34, 249, 'The Help', 2011, 8.0), (35, 249, 'The Help', 2011, 8.0), (36, 249, 'The Help', 2011, 8.0), (37, 249, 'The Help', 2011, 8.0), (38, 249, 'The Help', 2011, 8.0), (39, 249, 'The Help', 2011, 8.0), (40, 249, 'The Help', 2011, 8.0), (41, 249, 'The Help', 2011, 8.0), (42, 249, 'The Help', 2011, 8.0), (43, 249, 'The Help', 2011, 8.0), (44, 249, 'The Help', 2011, 8.0), (45, 249, 'The Help', 2011, 8.0), (46, 249, 'The Help', 2011, 8.0), (47, 249, 'The Help', 2011, 8.0), (48, 249, 'The Help', 2011, 8.0), (49, 249, 'The Help', 2011, 8.0), (50, 249, 'The Help', 2011, 8.0), (51, 249, 'The Help', 2011, 8.0), (52, 249, 'The Help', 2011, 8.0), (53, 249, 'The Help', 2011, 8.0), (54, 249, 'The Help', 2011, 8.0), (55, 249, 'The Help', 2011, 8.0), (56, 249, 'The Help', 2011, 8.0), (57, 249, 'The Help', 2011, 8.0), (58, 249, 'The Help', 2011, 8.0), (59, 249, 'The Help', 2011, 8.0), (60, 249, 'The Help', 2011, 8.0), (61, 249, 'The Help', 2011, 8.0), (62, 249, 'The Help', 2011, 8.0), (63, 249, 'The Help', 2011, 8.0), (64, 249, 'The Help', 2011, 8.0), (65, 249, 'The Help', 2011, 8.0), (66, 249, 'The Help', 2011, 8.0), (67, 249, 'The Help', 2011, 8.0), (68, 249, 'The Help', 2011, 8.0), (69, 249, 'The Help', 2011, 8.0), (70, 249, 'The Help', 2011, 8.0), (71, 249, 'The Help', 2011, 8.0), (72, 249, 'The Help', 2011, 8.0), (73, 249, 'The Help', 2011, 8.0), (74, 249, 'The Help', 2011, 8.0), (75, 249, 'The Help', 2011, 8.0), (76, 249, 'The Help', 2011, 8.0), (77, 249, 'The Help', 2011, 8.0), (78, 249, 'The Help', 2011, 8.0), (79, 249, 'The Help', 2011, 8.0), (80, 249, 'The Help', 2011, 8.0), (81, 249, 'The Help', 2011, 8.0), (82, 249, 'The Help', 2011, 8.0), (83, 249, 'The Help', 2011, 8.0), (84, 249, 'The Help', 2011, 8.0), (85, 249, 'The Help', 2011, 8.0), (86, 249, 'The Help', 2011, 8.0), (87, 249, 'The Help', 2011, 8.0), (88, 249, 'The Help', 2011, 8.0), (89, 249, 'The Help', 2011, 8.0), (90, 249, 'The Help', 2011, 8.0), (91, 249, 'The Help', 2011, 8.0), (92, 249, 'The Help', 2011, 8.0), (93, 249, 'The Help', 2011, 8.0), (94, 249, 'The Help', 2011, 8.0), (95, 249, 'The Help', 2011, 8.0), (96, 249, 'The Help', 2011, 8.0), (97, 249, 'The Help', 2011, 8.0), (98, 249, 'The Help', 2011, 8.0), (99, 249, 'The Help', 2011, 8.0), (100, 249, 'The Help', 2011, 8.0), (101, 249, 'The Help', 2011, 8.0), (102, 249, 'The Help', 2011, 8.0), (103, 249, 'The Help', 2011, 8.0), (104, 249, 'The Help', 2011, 8.0), (105, 249, 'The Help', 2011, 8.0), (106, 249, 'The Help', 2011, 8.0), (107, 249, 'The Help', 2011, 8.0), (108, 249, 'The Help', 2011, 8.0), (109, 249, 'The Help', 2011, 8.0), (110, 249, 'The Help', 2011, 8.0), (111, 249, 'The Help', 2011, 8.0), (112, 249, 'The Help', 2011, 8.0), (113, 249, 'The Help', 2011, 8.0), (114, 249, 'The Help', 2011, 8.0), (115, 249, 'The Help', 2011, 8.0), (116, 249, 'The Help', 2011, 8.0), (117, 249, 'The Help', 2011, 8.0), (118, 249, 'The Help', 2011, 8.0), (119, 249, 'The Help', 2011, 8.0), (120, 249, 'The Help', 2011, 8.0), (121, 249, 'The Help', 2011, 8.0), (122, 249, 'The Help', 2011, 8.0), (123, 249, 'The Help', 2011, 8.0), (124, 249, 'The Help', 2011, 8.0), (125, 249, 'The Help', 2011, 8.0), (126, 249, 'The Help', 2011, 8.0), (127, 249, 'The Help', 2011, 8.0), (128, 249, 'The Help', 2011, 8.0), (129, 249, 'The Help', 2011, 8.0), (130, 249, 'The Help', 2011, 8.0), (131, 249, 'The Help', 2011, 8.0), (132, 249, 'The Help', 2011, 8.0), (133, 249, 'The Help', 2011, 8.0), (134, 249, 'The Help', 2011, 8.0), (135, 249, 'The Help', 2011, 8.0), (136, 249, 'The Help', 2011, 8.0), (137, 249, 'The Help', 2011, 8.0), (138, 249, 'The Help', 2011, 8.0), (139, 249, 'The Help', 2011, 8.0), (140, 249, 'The Help', 2011, 8.0), (141, 249, 'The Help', 2011, 8.0), (142, 249, 'The Help', 2011, 8.0), (143, 249, 'The Help', 2011, 8.0), (144, 249, 'The Help', 2011, 8.0), (145, 249, 'The Help', 2011, 8.0), (146, 249, 'The Help', 2011, 8.0), (147, 249, 'The Help', 2011, 8.0), (148, 249, 'The Help', 2011, 8.0), (149, 249, 'The Help', 2011, 8.0), (150, 249, 'The Help', 2011, 8.0), (151, 249, 'The Help', 2011, 8.0), (152, 249, 'The Help', 2011, 8.0), (153, 249, 'The Help', 2011, 8.0), (154, 249, 'The Help', 2011, 8.0), (155, 249, 'The Help', 2011, 8.0), (156, 249, 'The Help', 2011, 8.0), (157, 249, 'The Help', 2011, 8.0), (158, 249, 'The Help', 2011, 8.0), (159, 249, 'The Help', 2011, 8.0), (160, 249, 'The Help', 2011, 8.0), (161, 249, 'The Help', 2011, 8.0), (162, 249, 'The Help', 2011, 8.0), (163, 249, 'The Help', 2011, 8.0), (164, 249, 'The Help', 2011, 8.0), (165, 249, 'The Help', 2011, 8.0), (166, 249, 'The Help', 2011, 8.0), (167, 249, 'The Help', 2011, 8.0), (168, 249, 'The Help', 2011, 8.0), (169, 249, 'The Help', 2011, 8.0), (170, 249, 'The Help', 2011, 8.0), (171, 249, 'The Help', 2011, 8.0), (172, 249, 'The Help', 2011, 8.0), (173, 249, 'The Help', 2011, 8.0), (174, 249, 'The Help', 2011, 8.0), (175, 249, 'The Help', 2011, 8.0), (176, 249, 'The Help', 2011, 8.0), (177, 249, 'The Help', 2011, 8.0), (178, 249, 'The Help', 2011, 8.0), (179, 249, 'The Help', 2011, 8.0), (180, 249, 'The Help', 2011, 8.0), (181, 249, 'The Help', 2011, 8.0), (182, 249, 'The Help', 2011, 8.0), (183, 249, 'The Help', 2011, 8.0), (184, 249, 'The Help', 2011, 8.0), (185, 249, 'The Help', 2011, 8.0), (186, 249, 'The Help', 2011, 8.0), (187, 249, 'The Help', 2011, 8.0), (188, 249, 'The Help', 2011, 8.0), (189, 249, 'The Help', 2011, 8.0), (190, 249, 'The Help', 2011, 8.0), (191, 249, 'The Help', 2011, 8.0), (192, 249, 'The Help', 2011, 8.0), (193, 249, 'The Help', 2011, 8.0), (194, 249, 'The Help', 2011, 8.0), (195, 249, 'The Help', 2011, 8.0), (196, 249, 'The Help', 2011, 8.0), (197, 249, 'The Help', 2011, 8.0), (198, 249, 'The Help', 2011, 8.0), (199, 249, 'The Help', 2011, 8.0), (200, 249, 'The Help', 2011, 8.0), (201, 249, 'The Help', 2011, 8.0), (202, 249, 'The Help', 2011, 8.0), (203, 249, 'The Help', 2011, 8.0), (204, 249, 'The Help', 2011, 8.0), (205, 249, 'The Help', 2011, 8.0), (206, 249, 'The Help', 2011, 8.0), (207, 249, 'The Help', 2011, 8.0), (208, 249, 'The Help', 2011, 8.0), (209, 249, 'The Help', 2011, 8.0), (210, 249, 'The Help', 2011, 8.0), (211, 249, 'The Help', 2011, 8.0), (212, 249, 'The Help', 2011, 8.0), (213, 249, 'The Help', 2011, 8.0), (214, 249, 'The Help', 2011, 8.0), (215, 249, 'The Help', 2011, 8.0), (216, 249, 'The Help', 2011, 8.0), (217, 249, 'The Help', 2011, 8.0), (218, 249, 'The Help', 2011, 8.0), (219, 249, 'The Help', 2011, 8.0), (220, 249, 'The Help', 2011, 8.0), (221, 249, 'The Help', 2011, 8.0), (222, 249, 'The Help', 2011, 8.0), (223, 249, 'The Help', 2011, 8.0), (224, 249, 'The Help', 2011, 8.0), (225, 249, 'The Help', 2011, 8.0), (226, 249, 'The Help', 2011, 8.0), (227, 249, 'The Help', 2011, 8.0), (228, 249, 'The Help', 2011, 8.0), (229, 249, 'The Help', 2011, 8.0), (230, 249, 'The Help', 2011, 8.0), (231, 249, 'The Help', 2011, 8.0), (232, 249, 'The Help', 2011, 8.0), (233, 249, 'The Help', 2011, 8.0), (234, 249, 'The Help', 2011, 8.0), (235, 249, 'The Help', 2011, 8.0), (236, 249, 'The Help', 2011, 8.0), (237, 249, 'The Help', 2011, 8.0), (238, 249, 'The Help', 2011, 8.0), (239, 249, 'The Help', 2011, 8.0), (240, 249, 'The Help', 2011, 8.0), (241, 249, 'The Help', 2011, 8.0), (242, 249, 'The Help', 2011, 8.0), (243, 249, 'The Help', 2011, 8.0), (244, 249, 'The Help', 2011, 8.0), (245, 249, 'The Help', 2011, 8.0), (246, 249, 'The Help', 2011, 8.0), (247, 249, 'The Help', 2011, 8.0), (248, 249, 'The Help', 2011, 8.0), (249, 249, 'The Help', 2011, 8.0), (250, 249, 'The Help', 2011, 8.0), (251, 249, 'The Help', 2011, 8.0), (252, 249, 'The Help', 2011, 8.0), (253, 249, 'The Help', 2011, 8.0)]\n"
          ]
        }
      ]
    },
    {
      "cell_type": "code",
      "source": [
        "cur.execute('''SELECT * FROM ninties_movies''')\n",
        "results = cur.fetchall()\n",
        "print(results)"
      ],
      "metadata": {
        "colab": {
          "base_uri": "https://localhost:8080/"
        },
        "id": "SFEW2xSgElPq",
        "outputId": "4c229acf-13c1-4e55-d884-9cd7999a56e6"
      },
      "execution_count": 27,
      "outputs": [
        {
          "output_type": "stream",
          "name": "stdout",
          "text": [
            "[(1, 250, 'Gandhi', 1982, 8.0)]\n"
          ]
        }
      ]
    }
  ]
}