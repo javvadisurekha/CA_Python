{
  "nbformat": 4,
  "nbformat_minor": 0,
  "metadata": {
    "colab": {
      "provenance": [],
      "authorship_tag": "ABX9TyOHzJVVGYKwyOXtMHokD4o5",
      "include_colab_link": true
    },
    "kernelspec": {
      "name": "python3",
      "display_name": "Python 3"
    },
    "language_info": {
      "name": "python"
    }
  },
  "cells": [
    {
      "cell_type": "markdown",
      "metadata": {
        "id": "view-in-github",
        "colab_type": "text"
      },
      "source": [
        "<a href=\"https://colab.research.google.com/github/javvadisurekha/CA_Python/blob/main/WebScraping.ipynb\" target=\"_parent\"><img src=\"https://colab.research.google.com/assets/colab-badge.svg\" alt=\"Open In Colab\"/></a>"
      ]
    },
    {
      "cell_type": "code",
      "execution_count": 1,
      "metadata": {
        "id": "dDJtznycvhvo"
      },
      "outputs": [],
      "source": [
        "from bs4 import BeautifulSoup\n",
        "import requests\n",
        "import openpyxl\n",
        "import pandas as pd"
      ]
    },
    {
      "cell_type": "code",
      "source": [
        "# working with excel using 'openpyxl' module\n",
        "excel = openpyxl.Workbook()\n",
        "sheet = excel.active\n",
        "sheet.title = \"Top 250 Movies\"\n",
        "sheet.append([\"Movie Rank\", \"Movie Name\", \"Year of Release\", \"Rating\"])\n",
        "\n",
        "\n",
        "# requesting source website using 'request' module\n",
        "source = requests.get('https://www.imdb.com/chart/top/?ref_=nv_mv_250')\n",
        "\n",
        "# Creating BeautifulSoup Object\n",
        "soup = BeautifulSoup(source.text, 'html.parser')"
      ],
      "metadata": {
        "id": "lhEZnRvcvp76"
      },
      "execution_count": 2,
      "outputs": []
    },
    {
      "cell_type": "code",
      "source": [
        "# Fetching Movies details form soup object\n",
        "movies_list = soup.find('tbody', class_=\"lister-list\").find_all('tr')\n",
        "for movie in movies_list:\n",
        "  name = movie.find('td', class_=\"titleColumn\").a.text\n",
        "  rank =  movie.find('td', class_=\"titleColumn\").get_text(strip = True).split('.')[0]\n",
        "  year = movie.find('td', class_=\"titleColumn\").span.text.strip('()')\n",
        "  rating = movie.find('td', class_=\"ratingColumn\").strong.text\n",
        "\n",
        "# appending data to excel file \n",
        "  sheet.append([rank, name, year, rating])\n",
        "\n",
        "excel.save('Top 250 Movie.xlsx')"
      ],
      "metadata": {
        "id": "91PdDKqjvwub"
      },
      "execution_count": 3,
      "outputs": []
    },
    {
      "cell_type": "code",
      "source": [
        "import sqlite3\n",
        "\n",
        "# import \"itertools\" to perform forloop on multiple lists at one time \n",
        "import itertools\n",
        "\n",
        "# Creating SQLITE3 Database\n",
        "db = sqlite3.connect('movies.db')\n",
        "cur = db.cursor()\n",
        "\n",
        "# creating dataframe using \"pandas\"\n",
        "df = pd.read_excel('Top 250 Movie.xlsx')\n",
        "df.dropna()"
      ],
      "metadata": {
        "colab": {
          "base_uri": "https://localhost:8080/",
          "height": 424
        },
        "id": "QKb7AQYHyYf9",
        "outputId": "22a5dc03-15b7-4258-937d-e24c34068467"
      },
      "execution_count": 4,
      "outputs": [
        {
          "output_type": "execute_result",
          "data": {
            "text/plain": [
              "     Movie Rank                Movie Name  Year of Release  Rating\n",
              "0             1  The Shawshank Redemption             1994     9.2\n",
              "1             2             The Godfather             1972     9.2\n",
              "2             3           The Dark Knight             2008     9.0\n",
              "3             4     The Godfather Part II             1974     9.0\n",
              "4             5              12 Angry Men             1957     9.0\n",
              "..          ...                       ...              ...     ...\n",
              "245         246               Dersu Uzala             1975     8.0\n",
              "246         247                   Aladdin             1992     8.0\n",
              "247         248            The Iron Giant             1999     8.0\n",
              "248         249                  The Help             2011     8.0\n",
              "249         250                    Gandhi             1982     8.0\n",
              "\n",
              "[250 rows x 4 columns]"
            ],
            "text/html": [
              "\n",
              "  <div id=\"df-7eec59b3-8fa7-43fe-80d4-f335dfa73bd9\">\n",
              "    <div class=\"colab-df-container\">\n",
              "      <div>\n",
              "<style scoped>\n",
              "    .dataframe tbody tr th:only-of-type {\n",
              "        vertical-align: middle;\n",
              "    }\n",
              "\n",
              "    .dataframe tbody tr th {\n",
              "        vertical-align: top;\n",
              "    }\n",
              "\n",
              "    .dataframe thead th {\n",
              "        text-align: right;\n",
              "    }\n",
              "</style>\n",
              "<table border=\"1\" class=\"dataframe\">\n",
              "  <thead>\n",
              "    <tr style=\"text-align: right;\">\n",
              "      <th></th>\n",
              "      <th>Movie Rank</th>\n",
              "      <th>Movie Name</th>\n",
              "      <th>Year of Release</th>\n",
              "      <th>Rating</th>\n",
              "    </tr>\n",
              "  </thead>\n",
              "  <tbody>\n",
              "    <tr>\n",
              "      <th>0</th>\n",
              "      <td>1</td>\n",
              "      <td>The Shawshank Redemption</td>\n",
              "      <td>1994</td>\n",
              "      <td>9.2</td>\n",
              "    </tr>\n",
              "    <tr>\n",
              "      <th>1</th>\n",
              "      <td>2</td>\n",
              "      <td>The Godfather</td>\n",
              "      <td>1972</td>\n",
              "      <td>9.2</td>\n",
              "    </tr>\n",
              "    <tr>\n",
              "      <th>2</th>\n",
              "      <td>3</td>\n",
              "      <td>The Dark Knight</td>\n",
              "      <td>2008</td>\n",
              "      <td>9.0</td>\n",
              "    </tr>\n",
              "    <tr>\n",
              "      <th>3</th>\n",
              "      <td>4</td>\n",
              "      <td>The Godfather Part II</td>\n",
              "      <td>1974</td>\n",
              "      <td>9.0</td>\n",
              "    </tr>\n",
              "    <tr>\n",
              "      <th>4</th>\n",
              "      <td>5</td>\n",
              "      <td>12 Angry Men</td>\n",
              "      <td>1957</td>\n",
              "      <td>9.0</td>\n",
              "    </tr>\n",
              "    <tr>\n",
              "      <th>...</th>\n",
              "      <td>...</td>\n",
              "      <td>...</td>\n",
              "      <td>...</td>\n",
              "      <td>...</td>\n",
              "    </tr>\n",
              "    <tr>\n",
              "      <th>245</th>\n",
              "      <td>246</td>\n",
              "      <td>Dersu Uzala</td>\n",
              "      <td>1975</td>\n",
              "      <td>8.0</td>\n",
              "    </tr>\n",
              "    <tr>\n",
              "      <th>246</th>\n",
              "      <td>247</td>\n",
              "      <td>Aladdin</td>\n",
              "      <td>1992</td>\n",
              "      <td>8.0</td>\n",
              "    </tr>\n",
              "    <tr>\n",
              "      <th>247</th>\n",
              "      <td>248</td>\n",
              "      <td>The Iron Giant</td>\n",
              "      <td>1999</td>\n",
              "      <td>8.0</td>\n",
              "    </tr>\n",
              "    <tr>\n",
              "      <th>248</th>\n",
              "      <td>249</td>\n",
              "      <td>The Help</td>\n",
              "      <td>2011</td>\n",
              "      <td>8.0</td>\n",
              "    </tr>\n",
              "    <tr>\n",
              "      <th>249</th>\n",
              "      <td>250</td>\n",
              "      <td>Gandhi</td>\n",
              "      <td>1982</td>\n",
              "      <td>8.0</td>\n",
              "    </tr>\n",
              "  </tbody>\n",
              "</table>\n",
              "<p>250 rows × 4 columns</p>\n",
              "</div>\n",
              "      <button class=\"colab-df-convert\" onclick=\"convertToInteractive('df-7eec59b3-8fa7-43fe-80d4-f335dfa73bd9')\"\n",
              "              title=\"Convert this dataframe to an interactive table.\"\n",
              "              style=\"display:none;\">\n",
              "        \n",
              "  <svg xmlns=\"http://www.w3.org/2000/svg\" height=\"24px\"viewBox=\"0 0 24 24\"\n",
              "       width=\"24px\">\n",
              "    <path d=\"M0 0h24v24H0V0z\" fill=\"none\"/>\n",
              "    <path d=\"M18.56 5.44l.94 2.06.94-2.06 2.06-.94-2.06-.94-.94-2.06-.94 2.06-2.06.94zm-11 1L8.5 8.5l.94-2.06 2.06-.94-2.06-.94L8.5 2.5l-.94 2.06-2.06.94zm10 10l.94 2.06.94-2.06 2.06-.94-2.06-.94-.94-2.06-.94 2.06-2.06.94z\"/><path d=\"M17.41 7.96l-1.37-1.37c-.4-.4-.92-.59-1.43-.59-.52 0-1.04.2-1.43.59L10.3 9.45l-7.72 7.72c-.78.78-.78 2.05 0 2.83L4 21.41c.39.39.9.59 1.41.59.51 0 1.02-.2 1.41-.59l7.78-7.78 2.81-2.81c.8-.78.8-2.07 0-2.86zM5.41 20L4 18.59l7.72-7.72 1.47 1.35L5.41 20z\"/>\n",
              "  </svg>\n",
              "      </button>\n",
              "      \n",
              "  <style>\n",
              "    .colab-df-container {\n",
              "      display:flex;\n",
              "      flex-wrap:wrap;\n",
              "      gap: 12px;\n",
              "    }\n",
              "\n",
              "    .colab-df-convert {\n",
              "      background-color: #E8F0FE;\n",
              "      border: none;\n",
              "      border-radius: 50%;\n",
              "      cursor: pointer;\n",
              "      display: none;\n",
              "      fill: #1967D2;\n",
              "      height: 32px;\n",
              "      padding: 0 0 0 0;\n",
              "      width: 32px;\n",
              "    }\n",
              "\n",
              "    .colab-df-convert:hover {\n",
              "      background-color: #E2EBFA;\n",
              "      box-shadow: 0px 1px 2px rgba(60, 64, 67, 0.3), 0px 1px 3px 1px rgba(60, 64, 67, 0.15);\n",
              "      fill: #174EA6;\n",
              "    }\n",
              "\n",
              "    [theme=dark] .colab-df-convert {\n",
              "      background-color: #3B4455;\n",
              "      fill: #D2E3FC;\n",
              "    }\n",
              "\n",
              "    [theme=dark] .colab-df-convert:hover {\n",
              "      background-color: #434B5C;\n",
              "      box-shadow: 0px 1px 3px 1px rgba(0, 0, 0, 0.15);\n",
              "      filter: drop-shadow(0px 1px 2px rgba(0, 0, 0, 0.3));\n",
              "      fill: #FFFFFF;\n",
              "    }\n",
              "  </style>\n",
              "\n",
              "      <script>\n",
              "        const buttonEl =\n",
              "          document.querySelector('#df-7eec59b3-8fa7-43fe-80d4-f335dfa73bd9 button.colab-df-convert');\n",
              "        buttonEl.style.display =\n",
              "          google.colab.kernel.accessAllowed ? 'block' : 'none';\n",
              "\n",
              "        async function convertToInteractive(key) {\n",
              "          const element = document.querySelector('#df-7eec59b3-8fa7-43fe-80d4-f335dfa73bd9');\n",
              "          const dataTable =\n",
              "            await google.colab.kernel.invokeFunction('convertToInteractive',\n",
              "                                                     [key], {});\n",
              "          if (!dataTable) return;\n",
              "\n",
              "          const docLinkHtml = 'Like what you see? Visit the ' +\n",
              "            '<a target=\"_blank\" href=https://colab.research.google.com/notebooks/data_table.ipynb>data table notebook</a>'\n",
              "            + ' to learn more about interactive tables.';\n",
              "          element.innerHTML = '';\n",
              "          dataTable['output_type'] = 'display_data';\n",
              "          await google.colab.output.renderOutput(dataTable, element);\n",
              "          const docLink = document.createElement('div');\n",
              "          docLink.innerHTML = docLinkHtml;\n",
              "          element.appendChild(docLink);\n",
              "        }\n",
              "      </script>\n",
              "    </div>\n",
              "  </div>\n",
              "  "
            ]
          },
          "metadata": {},
          "execution_count": 4
        }
      ]
    },
    {
      "cell_type": "code",
      "source": [
        "# max rating\n",
        "max_rating = df['Rating'].max()\n",
        "max_id = df['Rating'].idxmax()\n",
        "max_name = df.loc[max_id]['Movie Name']"
      ],
      "metadata": {
        "id": "aJAIlrEdEL9n"
      },
      "execution_count": 14,
      "outputs": []
    },
    {
      "cell_type": "code",
      "source": [
        "# min rating\n",
        "min_rating = df['Rating'].min()\n",
        "min_id = df['Rating'].idxmin()\n",
        "min_name = df.loc[min_id]['Movie Name']"
      ],
      "metadata": {
        "id": "z1S6izNWEO2I"
      },
      "execution_count": 15,
      "outputs": []
    },
    {
      "cell_type": "code",
      "source": [
        "# oldest movie name and year\n",
        "oldest_movie = df['Year of Release'].min()\n",
        "old_id = df['Year of Release'].idxmin()\n",
        "old_name = df.loc[old_id]['Movie Name']"
      ],
      "metadata": {
        "id": "_Gt6UhdhEQO1"
      },
      "execution_count": 16,
      "outputs": []
    },
    {
      "cell_type": "code",
      "source": [
        "# Newest movie name and year\n",
        "newest_movie = df['Year of Release'].max()\n",
        "new_id = df['Year of Release'].idxmax()\n",
        "new_name = df.loc[new_id]['Movie Name']"
      ],
      "metadata": {
        "id": "AgBg9XmNETeA"
      },
      "execution_count": 17,
      "outputs": []
    },
    {
      "cell_type": "code",
      "source": [
        "#Printing Data\n",
        "\n",
        "print(f\"----------------------------\\nMaximum Rating : {max_name} {max_rating}\")\n",
        "print(f\"Minimum Rating : {min_name} {min_rating}\")\n",
        "print(f\"Oldest Movie : {old_name} {oldest_movie}\")\n",
        "print(f\"Newest Movie : {new_name} {newest_movie}\\n-----------------------------\")"
      ],
      "metadata": {
        "id": "yjXDBzvxEVEw",
        "outputId": "7f95e13e-a5f4-4379-b750-5a98f14393cc",
        "colab": {
          "base_uri": "https://localhost:8080/"
        }
      },
      "execution_count": 18,
      "outputs": [
        {
          "output_type": "stream",
          "name": "stdout",
          "text": [
            "----------------------------\n",
            "Maximum Rating : The Shawshank Redemption 9.2\n",
            "Minimum Rating : Ford v Ferrari 8.0\n",
            "Oldest Movie : The Kid 1921\n",
            "Newest Movie : Top Gun: Maverick 2022\n",
            "-----------------------------\n"
          ]
        }
      ]
    },
    {
      "cell_type": "code",
      "source": [
        "# Ninties Movie Data Filtering --------------------------------\n",
        "\n",
        "movie_old = df['Year of Release'] < 2000\n",
        "\n",
        "data_dict = df[movie_old].to_dict()\n",
        "\n",
        "movies_90s = data_dict['Movie Name']\n",
        "movie_rank = []\n",
        "movie_name = []\n",
        "movie_year = []\n",
        "movie_rating = []\n",
        "\n",
        "for key, value in data_dict['Movie Rank'].items():\n",
        "    movie_rank.append(value)\n",
        "\n",
        "for key, value in data_dict['Movie Name'].items():\n",
        "    movie_name.append(value)\n",
        "\n",
        "for key, value in data_dict['Year of Release'].items():\n",
        "    movie_year.append(value)\n",
        "\n",
        "for key, value in data_dict['Rating'].items():\n",
        "    movie_rating.append(value)\n",
        "\n",
        "# ------------------------------------------"
      ],
      "metadata": {
        "id": "6sSrYl4_EXbN"
      },
      "execution_count": 19,
      "outputs": []
    },
    {
      "cell_type": "code",
      "source": [
        "# Table Creation for ninties movies\n",
        "cur.execute('''CREATE TABLE IF NOT EXISTS `ninties_movies` (id INTEGER PRIMARY KEY, rank INTEGER, title VARCHAR(255), year INTEGER, rating Real)''')\n",
        "\n",
        "for (a,b,c,d) in zip(movie_rank, movie_name, movie_year, movie_rating):\n",
        "    # replacing ' from Movie Names\n",
        "    b = b.replace(\"'\",\"\")\n",
        "\n",
        "    # CommentIn this if Data Already Inserted before another Run\n",
        "cur.execute(f\"INSERT INTO `ninties_movies` ( `rank`, `title`, `year`, `rating`) VALUES ( {a}, '{b}', {c}, {d})\" )"
      ],
      "metadata": {
        "id": "HpOiT3a4Ed_L",
        "outputId": "b9c57f0c-f398-4579-dda0-6d80716a9569",
        "colab": {
          "base_uri": "https://localhost:8080/"
        }
      },
      "execution_count": 20,
      "outputs": [
        {
          "output_type": "execute_result",
          "data": {
            "text/plain": [
              "<sqlite3.Cursor at 0x7f03f922ace0>"
            ]
          },
          "metadata": {},
          "execution_count": 20
        }
      ]
    },
    {
      "cell_type": "code",
      "source": [
        "# Twenties Movie Data Filtering --------------------------------\n",
        "\n",
        "movie_new = df['Year of Release'] >= 2000\n",
        "\n",
        "data_dict_new = df[movie_new].to_dict()\n",
        "\n",
        "movies_90s = data_dict['Movie Name']\n",
        "\n",
        "# Lists to store different column data into individually\n",
        "movie_rank_new = []\n",
        "movie_name_new = []\n",
        "movie_year_new = []\n",
        "movie_rating_new = []\n",
        "\n",
        "for key, value in data_dict_new['Movie Rank'].items():\n",
        "    movie_rank_new.append(value)\n",
        "\n",
        "for key, value in data_dict_new['Movie Name'].items():\n",
        "    movie_name_new.append(value)\n",
        "\n",
        "for key, value in data_dict_new['Year of Release'].items():\n",
        "    movie_year_new.append(value)\n",
        "\n",
        "for key, value in data_dict_new['Rating'].items():\n",
        "    movie_rating_new.append(value)\n"
      ],
      "metadata": {
        "id": "gkCgBy0BEgLC"
      },
      "execution_count": 21,
      "outputs": []
    },
    {
      "cell_type": "code",
      "source": [
        "# Table Creation for twenties movies\n",
        "cur.execute('''CREATE TABLE IF NOT EXISTS `twenties_movies` (id INTEGER PRIMARY KEY, rank INTEGER, title VARCHAR(255), year INTEGER, rating Real)''')\n",
        "\n",
        "for (a,b,c,d) in zip(movie_rank_new, movie_name_new, movie_year_new, movie_rating_new):\n",
        "    # replacing ' from Movie Names\n",
        "    b = b.replace(\"'\",\"\")\n",
        "\n",
        "    # CommentIn this if Data Already Inserted before another Run\n",
        "cur.execute(f\"INSERT INTO `twenties_movies` ( `rank`, `title`, `year`, `rating`) VALUES ( {a}, '{b}', {c}, {d})\" )\n",
        "    \n",
        "db.commit()"
      ],
      "metadata": {
        "id": "Sx17FmKzEhti"
      },
      "execution_count": 22,
      "outputs": []
    },
    {
      "cell_type": "code",
      "source": [
        "cur.execute('''SELECT * FROM twenties_movies''')\n",
        "results = cur.fetchall()\n",
        "print(results)"
      ],
      "metadata": {
        "id": "53sLd-R5Ej04",
        "outputId": "7c05409a-1179-4bd9-b429-088c7fb932fa",
        "colab": {
          "base_uri": "https://localhost:8080/"
        }
      },
      "execution_count": 23,
      "outputs": [
        {
          "output_type": "stream",
          "name": "stdout",
          "text": [
            "[(1, 249, 'The Help', 2011, 8.0)]\n"
          ]
        }
      ]
    },
    {
      "cell_type": "code",
      "source": [
        "cur.execute('''SELECT * FROM ninties_movies''')\n",
        "results = cur.fetchall()\n",
        "print(results)"
      ],
      "metadata": {
        "id": "SFEW2xSgElPq",
        "outputId": "fa84e5c2-501c-42a7-d291-ecb6976f9780",
        "colab": {
          "base_uri": "https://localhost:8080/"
        }
      },
      "execution_count": 24,
      "outputs": [
        {
          "output_type": "stream",
          "name": "stdout",
          "text": [
            "[(1, 250, 'Gandhi', 1982, 8.0)]\n"
          ]
        }
      ]
    }
  ]
}